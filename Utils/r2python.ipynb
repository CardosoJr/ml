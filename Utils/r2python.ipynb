{
  "nbformat": 4,
  "nbformat_minor": 0,
  "metadata": {
    "colab": {
      "provenance": [],
      "authorship_tag": "ABX9TyPay8hPPVX0kjLXusAXs9kF",
      "include_colab_link": true
    },
    "kernelspec": {
      "name": "python3",
      "display_name": "Python 3"
    },
    "language_info": {
      "name": "python"
    }
  },
  "cells": [
    {
      "cell_type": "markdown",
      "metadata": {
        "id": "view-in-github",
        "colab_type": "text"
      },
      "source": [
        "<a href=\"https://colab.research.google.com/github/CardosoJr/ml/blob/master/Utils/r2python.ipynb\" target=\"_parent\"><img src=\"https://colab.research.google.com/assets/colab-badge.svg\" alt=\"Open In Colab\"/></a>"
      ]
    },
    {
      "cell_type": "code",
      "execution_count": 1,
      "metadata": {
        "colab": {
          "base_uri": "https://localhost:8080/"
        },
        "id": "1D46QLmSTmTK",
        "outputId": "a92f3734-68b1-40ee-aa6d-21662b371f99"
      },
      "outputs": [
        {
          "output_type": "stream",
          "name": "stdout",
          "text": [
            "Looking in indexes: https://pypi.org/simple, https://us-python.pkg.dev/colab-wheels/public/simple/\n",
            "Collecting pyensae\n",
            "  Downloading pyensae-1.3.967-py3-none-any.whl (493 kB)\n",
            "\u001b[K     |████████████████████████████████| 493 kB 4.8 MB/s \n",
            "\u001b[?25hRequirement already satisfied: pandas>=1.0 in /usr/local/lib/python3.8/dist-packages (from pyensae) (1.3.5)\n",
            "Requirement already satisfied: matplotlib>=3.0 in /usr/local/lib/python3.8/dist-packages (from pyensae) (3.2.2)\n",
            "Collecting pyquickhelper>=1.8\n",
            "  Downloading pyquickhelper-1.11.3776-py3-none-any.whl (3.3 MB)\n",
            "\u001b[K     |████████████████████████████████| 3.3 MB 40.6 MB/s \n",
            "\u001b[?25hRequirement already satisfied: numpy>=1.18 in /usr/local/lib/python3.8/dist-packages (from pyensae) (1.21.6)\n",
            "Requirement already satisfied: python-dateutil>=2.1 in /usr/local/lib/python3.8/dist-packages (from matplotlib>=3.0->pyensae) (2.8.2)\n",
            "Requirement already satisfied: kiwisolver>=1.0.1 in /usr/local/lib/python3.8/dist-packages (from matplotlib>=3.0->pyensae) (1.4.4)\n",
            "Requirement already satisfied: pyparsing!=2.0.4,!=2.1.2,!=2.1.6,>=2.0.1 in /usr/local/lib/python3.8/dist-packages (from matplotlib>=3.0->pyensae) (3.0.9)\n",
            "Requirement already satisfied: cycler>=0.10 in /usr/local/lib/python3.8/dist-packages (from matplotlib>=3.0->pyensae) (0.11.0)\n",
            "Requirement already satisfied: pytz>=2017.3 in /usr/local/lib/python3.8/dist-packages (from pandas>=1.0->pyensae) (2022.6)\n",
            "Collecting fire\n",
            "  Downloading fire-0.4.0.tar.gz (87 kB)\n",
            "\u001b[K     |████████████████████████████████| 87 kB 5.2 MB/s \n",
            "\u001b[?25hCollecting pyquicksetup>=0.2\n",
            "  Downloading pyquicksetup-0.2.4.tar.gz (5.7 kB)\n",
            "Requirement already satisfied: setuptools in /usr/local/lib/python3.8/dist-packages (from pyquicksetup>=0.2->pyquickhelper>=1.8->pyensae) (57.4.0)\n",
            "Requirement already satisfied: six>=1.5 in /usr/local/lib/python3.8/dist-packages (from python-dateutil>=2.1->matplotlib>=3.0->pyensae) (1.15.0)\n",
            "Requirement already satisfied: termcolor in /usr/local/lib/python3.8/dist-packages (from fire->pyquickhelper>=1.8->pyensae) (2.1.1)\n",
            "Building wheels for collected packages: pyquicksetup, fire\n",
            "  Building wheel for pyquicksetup (setup.py) ... \u001b[?25l\u001b[?25hdone\n",
            "  Created wheel for pyquicksetup: filename=pyquicksetup-0.2.4-py3-none-any.whl size=6726 sha256=ae588f2865b1d82f3940faf8cfb6b31cbdcd2c12af6ca6e56c77a1256d779906\n",
            "  Stored in directory: /root/.cache/pip/wheels/35/53/83/4069bdc5800e62f6f55675a1f22c4245fa564acd70da9ee3f5\n",
            "  Building wheel for fire (setup.py) ... \u001b[?25l\u001b[?25hdone\n",
            "  Created wheel for fire: filename=fire-0.4.0-py2.py3-none-any.whl size=115943 sha256=b6a0a6ec55836a303a0c2afb2d19e9d8d0d9ea68e6f76e1933bb0ce19419fd57\n",
            "  Stored in directory: /root/.cache/pip/wheels/1f/10/06/2a990ee4d73a8479fe2922445e8a876d38cfbfed052284c6a1\n",
            "Successfully built pyquicksetup fire\n",
            "Installing collected packages: pyquicksetup, fire, pyquickhelper, pyensae\n",
            "Successfully installed fire-0.4.0 pyensae-1.3.967 pyquickhelper-1.11.3776 pyquicksetup-0.2.4\n"
          ]
        }
      ],
      "source": [
        "!pip install pyensae"
      ]
    },
    {
      "cell_type": "code",
      "source": [
        "!pip install antlr4-python3-runtime"
      ],
      "metadata": {
        "colab": {
          "base_uri": "https://localhost:8080/"
        },
        "id": "DAfKM5EgT33Q",
        "outputId": "50120d4d-4286-46cf-ae82-0aea9d2de105"
      },
      "execution_count": 3,
      "outputs": [
        {
          "output_type": "stream",
          "name": "stdout",
          "text": [
            "Looking in indexes: https://pypi.org/simple, https://us-python.pkg.dev/colab-wheels/public/simple/\n",
            "Collecting antlr4-python3-runtime\n",
            "  Downloading antlr4_python3_runtime-4.11.1-py3-none-any.whl (144 kB)\n",
            "\u001b[K     |████████████████████████████████| 144 kB 5.4 MB/s \n",
            "\u001b[?25hInstalling collected packages: antlr4-python3-runtime\n",
            "Successfully installed antlr4-python3-runtime-4.11.1\n"
          ]
        }
      ]
    },
    {
      "cell_type": "code",
      "source": [
        "!pip install autopep8"
      ],
      "metadata": {
        "colab": {
          "base_uri": "https://localhost:8080/"
        },
        "id": "sp_DU5iIUPzi",
        "outputId": "6491de6a-6fff-4767-b110-621d041057eb"
      },
      "execution_count": 8,
      "outputs": [
        {
          "output_type": "stream",
          "name": "stdout",
          "text": [
            "Looking in indexes: https://pypi.org/simple, https://us-python.pkg.dev/colab-wheels/public/simple/\n",
            "Collecting autopep8\n",
            "  Downloading autopep8-2.0.0-py2.py3-none-any.whl (45 kB)\n",
            "\u001b[K     |████████████████████████████████| 45 kB 2.0 MB/s \n",
            "\u001b[?25hRequirement already satisfied: tomli in /usr/local/lib/python3.8/dist-packages (from autopep8) (2.0.1)\n",
            "Collecting pycodestyle>=2.9.1\n",
            "  Downloading pycodestyle-2.10.0-py2.py3-none-any.whl (41 kB)\n",
            "\u001b[K     |████████████████████████████████| 41 kB 239 kB/s \n",
            "\u001b[?25hInstalling collected packages: pycodestyle, autopep8\n",
            "Successfully installed autopep8-2.0.0 pycodestyle-2.10.0\n"
          ]
        }
      ]
    },
    {
      "cell_type": "code",
      "source": [
        "from pyensae.languages import rconverter"
      ],
      "metadata": {
        "id": "WY3Cz322Tp7H"
      },
      "execution_count": 9,
      "outputs": []
    },
    {
      "cell_type": "code",
      "source": [
        "rscript = \"\"\"\n",
        "library(mgcv)\n",
        "\n",
        "train_gam <-\n",
        "function(X,y,pars = list(numBasisFcts = 10))\n",
        "{\n",
        "    if(!(\"numBasisFcts\" %in% names(pars) ))\n",
        "    { \n",
        "        pars$numBasisFcts = 10\n",
        "    }\n",
        "    p <- dim(as.matrix(X))\n",
        "    if(p[1]/p[2] < 3*pars$numBasisFcts)\n",
        "    {\n",
        "        pars$numBasisFcts <- ceiling(p[1]/(3*p[2]))\n",
        "        cat(\"changed number of basis functions to    \", pars$numBasisFcts, \"    in order to have enough samples per basis function\\n\")\n",
        "    }\n",
        "    dat <- data.frame(as.matrix(y),as.matrix(X))\n",
        "    coln <- rep(\"null\",p[2]+1)\n",
        "    for(i in 1:(p[2]+1))\n",
        "    {\n",
        "        coln[i] <- paste(\"var\",i,sep=\"\")\n",
        "    }\n",
        "    colnames(dat) <- coln\n",
        "    labs<-\"var1 ~ \"\n",
        "    if(p[2] > 1)\n",
        "    {\n",
        "        for(i in 2:p[2])\n",
        "        {\n",
        "            labs<-paste(labs,\"s(var\",i,\",k = \",pars$numBasisFcts,\") + \",sep=\"\")\n",
        "        }\n",
        "    }\n",
        "    labs<-paste(labs,\"s(var\",p[2]+1,\",k = \",pars$numBasisFcts,\")\",sep=\"\")\n",
        "    mod_gam <- FALSE\n",
        "    try(mod_gam <- gam(formula=formula(labs), data=dat),silent = TRUE)\n",
        "    if(typeof(mod_gam) == \"logical\")\n",
        "    {\n",
        "        cat(\"There was some error with gam. The smoothing parameter is set to zero.\\n\")\n",
        "        labs<-\"var1 ~ \"\n",
        "        if(p[2] > 1)\n",
        "        {\n",
        "            for(i in 2:p[2])\n",
        "            {\n",
        "                labs<-paste(labs,\"s(var\",i,\",k = \",pars$numBasisFcts,\",sp=0) + \",sep=\"\")\n",
        "            }\n",
        "        }\n",
        "        labs<-paste(labs,\"s(var\",p[2]+1,\",k = \",pars$numBasisFcts,\",sp=0)\",sep=\"\")\n",
        "        mod_gam <- gam(formula=formula(labs), data=dat)\n",
        "    }\n",
        "    result <- list()\n",
        "    result$Yfit <- as.matrix(mod_gam$fitted.values)\n",
        "    result$residuals <- as.matrix(mod_gam$residuals)\n",
        "    result$model <- mod_gam \n",
        "    result$df <- mod_gam$df.residual     \n",
        "    result$edf <- mod_gam$edf     \n",
        "    result$edf1 <- mod_gam$edf1     \n",
        "    \n",
        "    # for degree of freedom see mod_gam$df.residual\n",
        "    # for aic see mod_gam$aic\n",
        "    return(result)\n",
        "}\n",
        "\n",
        "\"\"\""
      ],
      "metadata": {
        "id": "GH3axz6XTtUV"
      },
      "execution_count": 12,
      "outputs": []
    },
    {
      "cell_type": "code",
      "source": [
        "print(rconverter.r2python(rscript, pep8=True))\n"
      ],
      "metadata": {
        "colab": {
          "base_uri": "https://localhost:8080/"
        },
        "id": "ZLJHrYXUTsw_",
        "outputId": "40ed6f12-f629-472b-dd0b-7a47a8d06881"
      },
      "execution_count": 13,
      "outputs": [
        {
          "output_type": "stream",
          "name": "stdout",
          "text": [
            "ANTLR runtime and generated code versions disagree: 4.11.1!=4.10.1\n",
            "ANTLR runtime and generated code versions disagree: 4.11.1!=4.10.1\n",
            "from python2r_helper import dotry\n",
            "from python2r_helper import list_or_dict\n",
            "\n",
            "library(mgcv)\n",
            "\n",
            "\n",
            "def train_gam(X, y, pars=list_or_dict(numBasisFcts=10)):\n",
            "    if ~  (set(\"numBasisFcts\") & set(names(pars))):\n",
            "\n",
            "        pars . numBasisFcts = 10\n",
            "\n",
            "    p = dim(as_matrix(X))\n",
            "    if p[1] / p[2] < 3 * pars . numBasisFcts:\n",
            "\n",
            "        pars . numBasisFcts = ceiling(p[1] / (3 * p[2]))\n",
            "        cat(\"changed number of basis functions to    \", pars . numBasisFcts, \" in order to have enough samples per basis function\n",
            "            \")\n",
            "\n",
            "    dat = data_frame(as_matrix(y), as_matrix(X))\n",
            "    coln = rep(\"null\", p[2] + 1)\n",
            "    for i in range(1, (p[2] + 1)):\n",
            "\n",
            "        coln[i] = paste(\"var\", i, sep=\"\")\n",
            "\n",
            "    colnames(dat) .set(coln)\n",
            "    labs = \"var1 ~ \"\n",
            "    if p[2] > 1:\n",
            "\n",
            "        for i in range(2, p)[2]:\n",
            "\n",
            "            labs = paste(\n",
            "                labs,\n",
            "                \"s(var\",\n",
            "                i,\n",
            "                \",k = \",\n",
            "                pars . numBasisFcts,\n",
            "                \") + \",\n",
            "                sep=\"\")\n",
            "\n",
            "    labs = paste(\n",
            "        labs,\n",
            "        \"s(var\",\n",
            "        p[2] + 1,\n",
            "        \",k = \",\n",
            "        pars . numBasisFcts,\n",
            "        \")\",\n",
            "        sep=\"\")\n",
            "    mod_gam = False\n",
            "    dotry(mod_gam .set(gam(formula=formula(labs), data=dat)), silent=True)\n",
            "    if typeof(mod_gam) == \"logical\":\n",
            "\n",
            "        cat(\"There was some error with gam. The smoothing parameter is set to zero.\n",
            "            \")\n",
            "        labs = \"var1 ~ \"\n",
            "        if p[2] > 1:\n",
            "\n",
            "            for i in range(2, p)[2]:\n",
            "\n",
            "                labs = paste(\n",
            "                    labs,\n",
            "                    \"s(var\",\n",
            "                    i,\n",
            "                    \",k = \",\n",
            "                    pars . numBasisFcts,\n",
            "                    \",sp=0) + \",\n",
            "                    sep=\"\")\n",
            "\n",
            "        labs = paste(\n",
            "            labs,\n",
            "            \"s(var\",\n",
            "            p[2] + 1,\n",
            "            \",k = \",\n",
            "            pars . numBasisFcts,\n",
            "            \",sp=0)\",\n",
            "            sep=\"\")\n",
            "        mod_gam = gam(formula=formula(labs), data=dat)\n",
            "\n",
            "    result = list_or_dict()\n",
            "    result . Yfit = as_matrix(mod_gam . fitted_values)\n",
            "    result . residuals = as_matrix(mod_gam . residuals)\n",
            "    result . model = mod_gam\n",
            "    result . df = mod_gam . df_residual\n",
            "    result . edf = mod_gam . edf\n",
            "    result . edf1 = mod_gam . edf1\n",
            "\n",
            "    # for degree of freedom see mod_gam$df.residual\n",
            "    # for aic see mod_gam$aic\n",
            "    return result\n",
            "\n"
          ]
        }
      ]
    },
    {
      "cell_type": "code",
      "source": [],
      "metadata": {
        "id": "GMQIfSTMUIFl"
      },
      "execution_count": null,
      "outputs": []
    }
  ]
}