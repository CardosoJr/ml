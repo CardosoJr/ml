{
  "nbformat": 4,
  "nbformat_minor": 0,
  "metadata": {
    "colab": {
      "provenance": [],
      "authorship_tag": "ABX9TyOMgF1lb60CuM3bFz2wfESt",
      "include_colab_link": true
    },
    "kernelspec": {
      "name": "python3",
      "display_name": "Python 3"
    },
    "language_info": {
      "name": "python"
    }
  },
  "cells": [
    {
      "cell_type": "markdown",
      "metadata": {
        "id": "view-in-github",
        "colab_type": "text"
      },
      "source": [
        "<a href=\"https://colab.research.google.com/github/CardosoJr/ml/blob/master/Stats/Bias_Correction_in_Bootstrapping.ipynb\" target=\"_parent\"><img src=\"https://colab.research.google.com/assets/colab-badge.svg\" alt=\"Open In Colab\"/></a>"
      ]
    },
    {
      "cell_type": "markdown",
      "source": [
        "# Bias Correction Methods in estimating bootstrapping confidence intervals"
      ],
      "metadata": {
        "id": "5XU5CgZ6Fomf"
      }
    },
    {
      "cell_type": "code",
      "source": [
        "import numpy as np\n",
        "from scipy import stats\n",
        "import matplotlib.pyplot as plt"
      ],
      "metadata": {
        "id": "idscDVCYF5S1"
      },
      "execution_count": 22,
      "outputs": []
    },
    {
      "cell_type": "code",
      "source": [
        "stats.qnorm()"
      ],
      "metadata": {
        "id": "g92SjE62IRTs"
      },
      "execution_count": null,
      "outputs": []
    },
    {
      "cell_type": "code",
      "source": [
        "y=[7,7,6,9,8,7,8,7,7,7,6,6,6,8,7,7,7,7,6,7,\n",
        "8,7,7,6,8,7,8,7,8,7,7,7,5,7,7,7,6,7,8,7,7,\n",
        "8,6,9,7,14,12,10,13,15]"
      ],
      "metadata": {
        "id": "X0SaOUOtFtbj"
      },
      "execution_count": 1,
      "outputs": []
    },
    {
      "cell_type": "code",
      "source": [
        "obs = stats.trim_mean(y, 0.1)\n",
        "obs"
      ],
      "metadata": {
        "colab": {
          "base_uri": "https://localhost:8080/"
        },
        "id": "CS6UrjNOFwxy",
        "outputId": "3b917bee-38c1-41e7-ec5b-4daaa353dff9"
      },
      "execution_count": 4,
      "outputs": [
        {
          "output_type": "execute_result",
          "data": {
            "text/plain": [
              "7.225"
            ]
          },
          "metadata": {},
          "execution_count": 4
        }
      ]
    },
    {
      "cell_type": "markdown",
      "source": [
        "## Normal Approximation"
      ],
      "metadata": {
        "id": "piAchGvYGJZt"
      }
    },
    {
      "cell_type": "code",
      "source": [
        "alpha = 0.05\n",
        "R = 100\n",
        "\n",
        "boot = [stats.trim_mean(np.random.choice(y, size = len(y), replace = True), 0.1) for i in range(R)]\n",
        "\n",
        "ci = stats.norm.ppf([alpha/2, 1 - alpha/2], loc = obs, scale = np.std(boot, ddof=1))\n",
        "print(ci)"
      ],
      "metadata": {
        "colab": {
          "base_uri": "https://localhost:8080/"
        },
        "id": "QBAQGBrWGK7y",
        "outputId": "04afa426-f0c5-424a-aaa2-a2571d80f50d"
      },
      "execution_count": 28,
      "outputs": [
        {
          "output_type": "stream",
          "name": "stdout",
          "text": [
            "[6.87225186 7.57774814]\n"
          ]
        }
      ]
    },
    {
      "cell_type": "code",
      "source": [
        "stats.probplot(boot, plot = plt);"
      ],
      "metadata": {
        "colab": {
          "base_uri": "https://localhost:8080/",
          "height": 472
        },
        "id": "81KwzQb7Lu93",
        "outputId": "60e590a7-9085-4832-c196-b48a41d4c45e"
      },
      "execution_count": 29,
      "outputs": [
        {
          "output_type": "display_data",
          "data": {
            "text/plain": [
              "<Figure size 640x480 with 1 Axes>"
            ],
            "image/png": "[encoded data removed]"
          },
          "metadata": {}
        }
      ]
    },
    {
      "cell_type": "markdown",
      "source": [
        "## Percentile Method"
      ],
      "metadata": {
        "id": "zsTUYyaQMump"
      }
    },
    {
      "cell_type": "code",
      "source": [
        "R = 5000\n",
        "boot = [stats.trim_mean(np.random.choice(y, size = len(y), replace = True), 0.1) for i in range(R)]\n",
        "np.quantile(boot, [alpha/2, 1 - alpha/2])"
      ],
      "metadata": {
        "colab": {
          "base_uri": "https://localhost:8080/"
        },
        "id": "pKE0phRUMvp_",
        "outputId": "22a65d39-73ee-46a5-805f-0411867776b2"
      },
      "execution_count": 31,
      "outputs": [
        {
          "output_type": "execute_result",
          "data": {
            "text/plain": [
              "array([6.95 , 7.775])"
            ]
          },
          "metadata": {},
          "execution_count": 31
        }
      ]
    },
    {
      "cell_type": "markdown",
      "source": [
        "## Backwards percentile limits"
      ],
      "metadata": {
        "id": "mrdcoekbNQNs"
      }
    },
    {
      "cell_type": "code",
      "source": [
        "R = 5000\n",
        "boot = [stats.trim_mean(np.random.choice(y, size = len(y), replace = True), 0.1) for i in range(R)]\n",
        "ci = np.quantile(boot, [alpha/2, 1 - alpha/2])\n",
        "\n",
        "2*obs-ci[1], 2*obs-ci[0]"
      ],
      "metadata": {
        "colab": {
          "base_uri": "https://localhost:8080/"
        },
        "id": "zvls7TEwNQ-N",
        "outputId": "04fdcbed-d857-4f3c-f396-fce9c26bfd4a"
      },
      "execution_count": 32,
      "outputs": [
        {
          "output_type": "execute_result",
          "data": {
            "text/plain": [
              "(6.674999999999999, 7.499999999999999)"
            ]
          },
          "metadata": {},
          "execution_count": 32
        }
      ]
    },
    {
      "cell_type": "markdown",
      "source": [
        "## Bias corrected percentile limits"
      ],
      "metadata": {
        "id": "UKCZSp5NNupp"
      }
    },
    {
      "cell_type": "code",
      "source": [
        "b=qnorm((sum(boot > obs)+sum(boot==obs)/2)/r)\n",
        "z=qnorm(c(alpha/2,1-alpha/2)) # Std. norm. limits\n",
        "p=pnorm(z-2*b) # bias-correct & convert to proportions\n",
        "quantile(boot,p=p) # Bias-corrected percentile lims.\n",
        "\n",
        "# 6.925 to 7.700"
      ],
      "metadata": {
        "id": "Tv0HbvZtNxRZ"
      },
      "execution_count": null,
      "outputs": []
    },
    {
      "cell_type": "markdown",
      "source": [
        "## Accelerated bias corrected percentile limits"
      ],
      "metadata": {
        "id": "YVz4QDvfOEBL"
      }
    },
    {
      "cell_type": "code",
      "source": [
        "# use a 10% trimmed mean\n",
        "stat=function(y){mean(y,trim=0.1)}\n",
        "(obs=stat(y)) # Observed value of stat.\n",
        "\n",
        "R=5000 # use 5000 bootstraps\n",
        "boot=r=0 ; while(r < R){r=r+1 # for each of R samples\n",
        " boot[r]=stat(sample(y,replace=TRUE))} # get bootstrap stat.\n",
        "\n",
        "# estimate bias in std. norm deviates\n",
        "b=qnorm((sum(boot > obs)+sum(boot==obs)/2)/r)\n",
        "\n",
        "# estimate acceleration constant\n",
        "n=length(y) ; n1=n-1 ; obsn=obs*n\n",
        "pv=i=0 ; while(i < n){i=i+1 ; pv[i]=obsn-n1*stat(y[-i])}\n",
        "je=mean(pv)-pv\n",
        "a=sum(je^3)/(6*sum(je^2))^(3/2)\n",
        "\n",
        "alpha=0.05 # 95% limits\n",
        "z=qnorm(c(alpha/2,1-alpha/2)) # Std. norm. limits\n",
        "p=pnorm((z-b)/(1-a*(z-b))-b) # correct & convert to proportions\n",
        "\n",
        "quantile(boot,p=p) # ABC percentile lims.\n",
        "\n",
        "# 6.9 to 7.7"
      ],
      "metadata": {
        "id": "K3WeqPheOIWj"
      },
      "execution_count": null,
      "outputs": []
    },
    {
      "cell_type": "markdown",
      "source": [
        "## Studentized percentile limits"
      ],
      "metadata": {
        "id": "rJRe9aIwOIcF"
      }
    },
    {
      "cell_type": "code",
      "source": [
        "# use a 10% trimmed mean\n",
        "stat=function(y){mean(y,trim=0.1)}\n",
        "(obs=stat(y)) # Observed value of stat\n",
        "\n",
        "R=5000 # use 5000 1st-stage bootstrap statistics\n",
        "R2=100 # use 100 2nd-stage bootstrap statistics\n",
        "\n",
        "boot=boott=r=0 ; while(r < R){r=r+1 # for each of R samples\n",
        " y1=sample(y,replace=TRUE) # get 1st-stage sample\n",
        " boot[r]=stat(y1) # record 1st-stage bootstrap stat\n",
        " boot2=r2=0 ; while(r2 < R2){r2=r2+1 # for R2 samples\n",
        "  boot2[r2]=stat(sample(y1,replace=TRUE))} # 2s stat\n",
        " boott[r]=boot[r]/sd(boot2)} # record bootstrap t-stat.\n",
        "\n",
        "obs/sd(boot) # observed t-statistic\n",
        "\n",
        "alpha=0.05 # 95% limits\n",
        "# Percentile limits\n",
        "quantile(boott,p=c(alpha/2,1-alpha/2))\n",
        "\n",
        "# alternately, give in orig scale\n",
        "obs # observed statistic\n",
        "# Percentile limits\n",
        "quantile(boott,p=c(alpha/2,1-alpha/2))*sd(boot)"
      ],
      "metadata": {
        "id": "3W1U1wkqOIlw"
      },
      "execution_count": null,
      "outputs": []
    },
    {
      "cell_type": "markdown",
      "source": [
        "The studentized mean we obtained was 35.24868\n",
        "\n",
        "Its percentile limits were 19.61014 and 65.89138\n",
        "\n",
        "To make those limits comparable to the observed trimmed mean (7.225) we multiplied them by its standard error (the standard deviation of the, first stage, bootstrap trimmed means) giving limits of 4.019533 and 13.505900\n",
        "\n",
        "Notice these intervals are wider than the simple percentile ones we obtained,  as you should expect when coverage is increased. However, since they were obtained from a modest sample of discrete skewed data, we suspect these intervals may be a little too wide."
      ],
      "metadata": {
        "id": "xG0FWvTKOWyg"
      }
    },
    {
      "cell_type": "markdown",
      "source": [
        "## Smoothed percentile limits"
      ],
      "metadata": {
        "id": "qdpfkb0eOIv5"
      }
    },
    {
      "cell_type": "code",
      "source": [
        "# use a 10% trimmed mean\n",
        "stat=function(y){mean(y,trim=0.1)}\n",
        "(obs=stat(y)) # Observed value of stat\n",
        "\n",
        "n=length(y) # note sample size\n",
        "h=1.06*sd(y)/(n^(1/5)) # get shape parameter\n",
        "\n",
        "R=5000 # use 5000 bootstrap statistics\n",
        "boot=r=0 ; while(r < R){r=r+1 # for each of R samples\n",
        " # jitter bootstrap sample\n",
        " y1=sample(y,replace=TRUE)+rnorm(rnorm(n,0,h))\n",
        " y1=round(y1*(y1 > 0)) # change to positive integers\n",
        " boot[r]=stat(y1)} # get bootstrap stat.\n",
        "\n",
        "alpha=0.05 # 95% limits\n",
        "# Simple percentile lims.\n",
        "quantile(boot,p=c(alpha/2,1-alpha/2))\n",
        "\n",
        "#  6.875 and 7.925"
      ],
      "metadata": {
        "id": "oJ1-qcKWOI2K"
      },
      "execution_count": null,
      "outputs": []
    },
    {
      "cell_type": "markdown",
      "source": [
        "## Test-inversion percentile limits"
      ],
      "metadata": {
        "id": "eHJb3PiqOI7Y"
      }
    },
    {
      "cell_type": "code",
      "source": [
        "# use a 10% trimmed mean\n",
        "stat=function(y){mean(y,trim=0.1)}\n",
        "(obs=stat(y)) # Observed value of stat\n",
        "\n",
        "R=5000 # use 5000 bootstrap statistics\n",
        "K=100 # set number of tests\n",
        "T=seq(.85, 1.15, length.out=K) # set a series of test pars.\n",
        "n=length(y) # note sample size\n",
        "\n",
        "Y1=P=Q=Qm=k=0 ; while(k < K){k=k+1 # for each test parameter\n",
        "Y=y*T[k] # modify model population\n",
        "h=1.06*sd(Y)/(n^(1/5)) # get shape parameter from model\n",
        "\n",
        "# estimate samp dist under H0 & test observed value\n",
        "boot=r=0 ; while(r < R){r=r+1 # for each of R samples\n",
        " # jitter bootstrap sample of model population\n",
        " y1=sample(Y,replace=TRUE)+rnorm(rnorm(n,0,h))\n",
        " y1=round(y1*(y1 > 0)) # change to positive integers\n",
        " boot[r]=stat(y1) # record bootstrap statistic\n",
        " Y1[(r*n-n+1):(r*n)]=y1} # save bootstrap sample\n",
        "Q[k]=stat(Y1) # estimate parameter\n",
        "Qm[k]=median(boot) # estimate pop.n value of stat\n",
        "P[k]=(sum(boot < obs)+sum(boot==obs)/2)/r} # record mid-P-value\n",
        "\n",
        "a2=0.5*0.05 # do 2-sided 95% limits\n",
        "q1=min(which(P < 1-a2))\n",
        "q2=max(which(P >= 1-a2))\n",
        "P1=P[q1] ; P2=P[q2] ; Q1=Q[q1] ; Q2=Q[q2]\n",
        "# use linear interpolation\n",
        "(L=(Q1-Q2)*(P2-(1-a2))/(P2-P1)+Q2) # lower conf limit\n",
        "q1=min(which(P <= a2))\n",
        "q2=max(which(P > a2))\n",
        "P1=P[q1] ; P2=P[q2] ; Q1=Q[q1] ; Q2=Q[q2]\n",
        "# use linear interpolation\n",
        "(U=(Q1-Q2)*(P2-a2)/(P2-P1)+Q2) # upper conf limit\n",
        "\n",
        "plot(Q,P,type='l',col='green') # show P-value plot\n",
        "points(Q,P,pch='.', col='red') # interpolate\n",
        "abline(h=c(a2,1-a2),v=c(L,U),col='blue')\n",
        "points(obs,0.5)\n",
        "\n",
        "# The test-inversion limits we obtained, after 100 Gaussian-smoothed percentile bootstrap tests, were 6.673416 and 7.668602\n",
        "\n"
      ],
      "metadata": {
        "id": "d5QvWwMcOJA1"
      },
      "execution_count": null,
      "outputs": []
    }
  ]
}