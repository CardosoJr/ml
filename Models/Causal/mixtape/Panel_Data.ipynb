{
  "cells": [
    {
      "cell_type": "markdown",
      "metadata": {
        "id": "5y7b2pEl9AxS"
      },
      "source": [
        "## Welcome\n",
        "\n",
        "This is material for the **Panel Data** chapter in Scott Cunningham's book, [Causal Inference: The Mixtape.](https://mixtape.scunning.com/)\n"
      ]
    },
    {
      "cell_type": "code",
      "source": [
        ""
      ],
      "metadata": {
        "id": "srPv90uK9FA_"
      },
      "execution_count": null,
      "outputs": []
    },
    {
      "cell_type": "code",
      "source": [
        ""
      ],
      "metadata": {
        "id": "nODEUvXG9FGI"
      },
      "execution_count": null,
      "outputs": []
    },
    {
      "cell_type": "code",
      "execution_count": null,
      "metadata": {
        "id": "CVGV8nR39Axl"
      },
      "outputs": [],
      "source": [
        "import numpy as np\n",
        "import pandas as pd\n",
        "import statsmodels.api as sm\n",
        "import statsmodels.formula.api as smf\n",
        "from linearmodels import PanelOLS\n",
        "import plotnine as p"
      ]
    },
    {
      "cell_type": "code",
      "execution_count": null,
      "metadata": {
        "id": "OaAocUo-9Axw"
      },
      "outputs": [],
      "source": [
        "import ssl\n",
        "ssl._create_default_https_context = ssl._create_unverified_context\n",
        "\n",
        "# read data\n",
        "def read_data(file):\n",
        "    return pd.read_stata(\"https://raw.github.com/scunning1975/mixtape/master/\" + file)"
      ]
    },
    {
      "cell_type": "code",
      "execution_count": null,
      "metadata": {
        "id": "kGkaa55y9Ax0"
      },
      "outputs": [],
      "source": [
        "sasp = read_data(\"sasp_panel.dta\")\n",
        "#-- Delete all NA\n",
        "sasp = sasp.dropna()\n",
        "\n",
        "#-- order by id and session \n",
        "sasp.sort_values('id', inplace=True)\n"
      ]
    },
    {
      "cell_type": "code",
      "execution_count": null,
      "metadata": {
        "id": "bmmKIdGq9Ax2"
      },
      "outputs": [],
      "source": [
        "#Balance Data\n",
        "times = len(sasp.session.unique())\n",
        "in_all_times = sasp.groupby('id')['session'].apply(lambda x : len(x)==times).reset_index()\n",
        "in_all_times.rename(columns={'session':'in_all_times'}, inplace=True)\n",
        "balanced_sasp = pd.merge(in_all_times, sasp, how='left', on='id')\n",
        "balanced_sasp = balanced_sasp[balanced_sasp.in_all_times]\n",
        "balanced_sasp.shape"
      ]
    },
    {
      "cell_type": "code",
      "execution_count": null,
      "metadata": {
        "id": "GvNAdgkP9Ax6"
      },
      "outputs": [],
      "source": [
        "provider_second = np.zeros(balanced_sasp.shape[0])\n",
        "provider_second[balanced_sasp.provider_second == \"2. Yes\"] = 1\n",
        "balanced_sasp.provider_second = provider_second"
      ]
    },
    {
      "cell_type": "code",
      "execution_count": null,
      "metadata": {
        "id": "4F_OqEjK9Ax7"
      },
      "outputs": [],
      "source": [
        "#Demean Data\n",
        "features = balanced_sasp.columns.to_list()\n",
        "features = [x for x in features if x not in ['session', 'id', 'in_all_times']]\n",
        "demean_features = [\"demean_{}\".format(x) for x in features]\n",
        "balanced_sasp[demean_features] = balanced_sasp.groupby('id')[features].apply(lambda x : x - np.mean(x))"
      ]
    },
    {
      "cell_type": "code",
      "execution_count": null,
      "metadata": {
        "id": "QoY58-Kz9Ax9"
      },
      "outputs": [],
      "source": [
        "balanced_sasp"
      ]
    },
    {
      "cell_type": "markdown",
      "metadata": {
        "id": "uQNlziX-9Ax_"
      },
      "source": [
        "#### Pooled OLS"
      ]
    },
    {
      "cell_type": "code",
      "execution_count": null,
      "metadata": {
        "id": "pSI2DxNs9AyB"
      },
      "outputs": [],
      "source": [
        "dep_var = \"+\".join(features)\n",
        "formula = \"\"\"lnw ~ age + asq + bmi + hispanic + black + other + asian + schooling + cohab + \n",
        "            married + divorced + separated + age_cl + unsafe + llength + reg + asq_cl + \n",
        "            appearance_cl + provider_second + asian_cl + black_cl + hispanic_cl + \n",
        "           othrace_cl + hot + massage_cl\"\"\"\n",
        "ols = sm.OLS.from_formula(formula, data=balanced_sasp).fit()\n",
        "ols.summary()"
      ]
    },
    {
      "cell_type": "markdown",
      "metadata": {
        "id": "o12lD_LK9AyF"
      },
      "source": [
        "#### Fixed Effects"
      ]
    },
    {
      "cell_type": "code",
      "execution_count": null,
      "metadata": {
        "id": "DKhKwvlA9AyG"
      },
      "outputs": [],
      "source": [
        "balanced_sasp['y'] = balanced_sasp.lnw"
      ]
    },
    {
      "cell_type": "code",
      "execution_count": null,
      "metadata": {
        "id": "CL5XO6xi9AyH"
      },
      "outputs": [],
      "source": [
        "balanced_sasp"
      ]
    },
    {
      "cell_type": "code",
      "execution_count": null,
      "metadata": {
        "id": "M8OS67BY9AyI"
      },
      "outputs": [],
      "source": [
        "formula = \"\"\"lnw ~ -1 + C(id) + age + asq + bmi + hispanic + black + other + asian + schooling + \n",
        "                      cohab + married + divorced + separated + \n",
        "                      age_cl + unsafe + llength + reg + asq_cl + appearance_cl + \n",
        "                      provider_second + asian_cl + black_cl + hispanic_cl + \n",
        "                      othrace_cl + hot + massage_cl\"\"\"\n",
        "\n",
        "ols = sm.OLS.from_formula(formula, data=balanced_sasp).fit(cov_type='cluster', \n",
        "                                                           cov_kwds={'groups': balanced_sasp['id']})\n",
        "ols.summary()    "
      ]
    },
    {
      "cell_type": "markdown",
      "metadata": {
        "id": "ImL2mgfv9AyJ"
      },
      "source": [
        "#### Demean OLS"
      ]
    },
    {
      "cell_type": "code",
      "execution_count": null,
      "metadata": {
        "id": "IT49ux4R9AyJ"
      },
      "outputs": [],
      "source": [
        "#-- Demean OLS\n",
        "dm_formula = \"\"\"demean_lnw ~ demean_age + demean_asq + demean_bmi + \n",
        "                demean_hispanic + demean_black + demean_other +\n",
        "                demean_asian + demean_schooling + demean_cohab + \n",
        "                demean_married + demean_divorced + demean_separated +\n",
        "                demean_age_cl + demean_unsafe + demean_llength + demean_reg + \n",
        "                demean_asq_cl + demean_appearance_cl + \n",
        "                demean_provider_second + demean_asian_cl + demean_black_cl + \n",
        "                demean_hispanic_cl + demean_othrace_cl +\n",
        "                demean_hot + demean_massage_cl\"\"\"\n",
        "\n",
        "ols = sm.OLS.from_formula(dm_formula, data=balanced_sasp).fit(cov_type='cluster', \n",
        "                                                           cov_kwds={'groups': balanced_sasp['id']})\n",
        "ols.summary()  \n"
      ]
    },
    {
      "cell_type": "markdown",
      "metadata": {
        "id": "X7oRj1wW9AyN"
      },
      "source": [
        "#### QUESTIONS\n",
        "- Interpret the effect of natural log of session length on the natural log of hourly wage.  Describe the economic theory that might explain this relationship?  (HINT: Consider the role that supplier fixed versus variable costs may have on the hourly wage.)\n",
        "- Becker described discrimination in terms of ``taste based``.  This meant that social interactions with people of the other race were factors into marginal cost.  Given that these persist, what does this imply about the effect that competition is having on discrimination?\n",
        "- Hamermesh and Biddle suggest that beauty is valued on the market.  Describe some reasons why there is no effect on client beauty once we use the within estimators?\n",
        "- What other interesting results did you find in this analysis?  Which ones surprised you and which ones were intuitive and why?"
      ]
    },
    {
      "cell_type": "code",
      "execution_count": null,
      "metadata": {
        "id": "sLmwy68p9AyN"
      },
      "outputs": [],
      "source": [
        ""
      ]
    }
  ],
  "metadata": {
    "kernelspec": {
      "display_name": "Python 3",
      "language": "python",
      "name": "python3"
    },
    "language_info": {
      "codemirror_mode": {
        "name": "ipython",
        "version": 3
      },
      "file_extension": ".py",
      "mimetype": "text/x-python",
      "name": "python",
      "nbconvert_exporter": "python",
      "pygments_lexer": "ipython3",
      "version": "3.8.5-final"
    },
    "colab": {
      "name": "Panel_Data.ipynb",
      "provenance": []
    }
  },
  "nbformat": 4,
  "nbformat_minor": 0
}