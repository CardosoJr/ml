{
 "cells": [
  {
   "cell_type": "markdown",
   "metadata": {},
   "source": [
    "# Testing the D3js \n",
    "\n",
    "\n",
    "My goal here is to test the d3js in jupyter notebooks and hopefully dev some boilerplate code to get it easy running in my consulting jobs\n",
    "\n",
    "* https://d3js.org/\n",
    "* https://github.com/d3/d3-selection/blob/v2.0.0/README.md#selection_enter\n",
    "* https://observablehq.com/@d3/learn-d3\n",
    "* https://observablehq.com/@d3/line-chart"
   ]
  },
  {
   "cell_type": "code",
   "execution_count": 19,
   "metadata": {},
   "outputs": [],
   "source": [
    "from IPython.display import Javascript\n",
    "from IPython.core.display import display, HTML\n",
    "from string import Template\n",
    "import pandas as pd\n",
    "import json, random"
   ]
  },
  {
   "cell_type": "code",
   "execution_count": 21,
   "metadata": {},
   "outputs": [
    {
     "data": {
      "application/javascript": [
       "require.config({ \n",
       "     paths: { \n",
       "     d3: 'https://d3js.org/d3.v5.min'\n",
       "}});\n"
      ],
      "text/plain": [
       "<IPython.core.display.Javascript object>"
      ]
     },
     "metadata": {},
     "output_type": "display_data"
    }
   ],
   "source": [
    "%%javascript\n",
    "require.config({ \n",
    "     paths: { \n",
    "     d3: 'https://d3js.org/d3.v5.min'\n",
    "}});"
   ]
  },
  {
   "cell_type": "code",
   "execution_count": 22,
   "metadata": {},
   "outputs": [
    {
     "data": {
      "application/javascript": [
       "require(['d3'], function(d3) {   \n",
       "     console.log(d3);\n",
       "});\n"
      ],
      "text/plain": [
       "<IPython.core.display.Javascript object>"
      ]
     },
     "metadata": {},
     "output_type": "display_data"
    }
   ],
   "source": [
    "%%javascript\n",
    "require(['d3'], function(d3) {   \n",
    "     console.log(d3);\n",
    "});"
   ]
  },
  {
   "cell_type": "code",
   "execution_count": 23,
   "metadata": {},
   "outputs": [
    {
     "data": {
      "application/javascript": [
       "element.text('hello world');\n"
      ],
      "text/plain": [
       "<IPython.core.display.Javascript object>"
      ]
     },
     "metadata": {},
     "output_type": "display_data"
    }
   ],
   "source": [
    "%%javascript\n",
    "element.text('hello world');"
   ]
  },
  {
   "cell_type": "code",
   "execution_count": 24,
   "metadata": {},
   "outputs": [
    {
     "data": {
      "application/javascript": [
       " (function(element) {\n",
       "     require(['d3'], function(d3) {   \n",
       "        d3.select(element.get(0)).append('text').text('hello world');\n",
       "     })\n",
       " })(element);\n"
      ],
      "text/plain": [
       "<IPython.core.display.Javascript object>"
      ]
     },
     "metadata": {},
     "output_type": "display_data"
    }
   ],
   "source": [
    "%%javascript\n",
    " (function(element) {\n",
    "     require(['d3'], function(d3) {   \n",
    "        d3.select(element.get(0)).append('text').text('hello world');\n",
    "     })\n",
    " })(element);"
   ]
  },
  {
   "cell_type": "code",
   "execution_count": 25,
   "metadata": {},
   "outputs": [],
   "source": [
    "import json"
   ]
  },
  {
   "cell_type": "code",
   "execution_count": 28,
   "metadata": {},
   "outputs": [],
   "source": [
    "data = [50, 100]"
   ]
  },
  {
   "cell_type": "code",
   "execution_count": 29,
   "metadata": {},
   "outputs": [
    {
     "data": {
      "application/javascript": [
       "\n",
       "console.log([50, 100]);\n"
      ],
      "text/plain": [
       "<IPython.core.display.Javascript object>"
      ]
     },
     "execution_count": 29,
     "metadata": {},
     "output_type": "execute_result"
    }
   ],
   "source": [
    "Javascript(\"\"\"\n",
    "console.log(%s);\n",
    "\"\"\" % json.dumps(data))"
   ]
  },
  {
   "cell_type": "code",
   "execution_count": 47,
   "metadata": {},
   "outputs": [
    {
     "data": {
      "text/html": [
       "<style>\n",
       "    #viz_rect {\n",
       "        fill: blue;\n",
       "    }\n",
       "\tsvg circle {\n",
       "\t  stroke: #16527b;\n",
       "\t  stroke-width: 1px;\n",
       "\t}\n",
       "</style>"
      ],
      "text/plain": [
       "<IPython.core.display.HTML object>"
      ]
     },
     "metadata": {},
     "output_type": "display_data"
    },
    {
     "data": {
      "application/javascript": [
       "define('viz', ['d3'], function (d3) {\n",
       "    function draw(container) {\n",
       "        d3.select(container).append(\"svg\").append('rect').attr('id', 'viz_rect').attr('width', 50).attr('height', 50);\n",
       "    }\n",
       "    return draw;\n",
       "});\n",
       "element.append('Loaded ðŸ˜„ ');"
      ],
      "text/plain": [
       "<IPython.core.display.Javascript object>"
      ]
     },
     "execution_count": 47,
     "metadata": {},
     "output_type": "execute_result"
    }
   ],
   "source": [
    "display(HTML(filename=\"viz.css.html\"))\n",
    "Javascript(filename='viz.js')"
   ]
  },
  {
   "cell_type": "code",
   "execution_count": 32,
   "metadata": {},
   "outputs": [
    {
     "data": {
      "application/javascript": [
       "\n",
       " (function(element){\n",
       "     require(['viz'], function(viz) {\n",
       "          viz(element.get(0))\n",
       "     });\n",
       " })(element);\n",
       " "
      ],
      "text/plain": [
       "<IPython.core.display.Javascript object>"
      ]
     },
     "execution_count": 32,
     "metadata": {},
     "output_type": "execute_result"
    }
   ],
   "source": [
    "Javascript(\"\"\"\n",
    " (function(element){\n",
    "     require(['viz'], function(viz) {\n",
    "          viz(element.get(0))\n",
    "     });\n",
    " })(element);\n",
    " \"\"\")"
   ]
  },
  {
   "cell_type": "code",
   "execution_count": 33,
   "metadata": {},
   "outputs": [
    {
     "data": {
      "text/html": [
       "<div id='variable1' data-fromPython='this_could_be_any_python_string' ></div>"
      ],
      "text/plain": [
       "<IPython.core.display.HTML object>"
      ]
     },
     "execution_count": 33,
     "metadata": {},
     "output_type": "execute_result"
    }
   ],
   "source": [
    "variable1 = \"this_could_be_any_python_string\"\n",
    "HTML(\"<div id='variable1' data-fromPython='\" + variable1 + \"' ></div>\")"
   ]
  },
  {
   "cell_type": "code",
   "execution_count": 34,
   "metadata": {},
   "outputs": [
    {
     "data": {
      "application/javascript": [
       "var fromPython = document.getElementById('variable1').getAttribute('data-fromPython');\n",
       "element.text(fromPython);\n"
      ],
      "text/plain": [
       "<IPython.core.display.Javascript object>"
      ]
     },
     "metadata": {},
     "output_type": "display_data"
    }
   ],
   "source": [
    "%%javascript\n",
    "var fromPython = document.getElementById('variable1').getAttribute('data-fromPython');\n",
    "element.text(fromPython);"
   ]
  },
  {
   "cell_type": "code",
   "execution_count": 35,
   "metadata": {},
   "outputs": [
    {
     "data": {
      "application/javascript": [
       "var variable2 = \"this_could_be_any_javascript_string\";\n",
       "// command is a string containing Python code\n",
       "var command = \"fromJavaScript='\" + variable2 + \"'\";\n",
       "IPython.notebook.kernel.execute(command);\n"
      ],
      "text/plain": [
       "<IPython.core.display.Javascript object>"
      ]
     },
     "metadata": {},
     "output_type": "display_data"
    }
   ],
   "source": [
    "%%javascript\n",
    "var variable2 = \"this_could_be_any_javascript_string\";\n",
    "// command is a string containing Python code\n",
    "var command = \"fromJavaScript='\" + variable2 + \"'\";\n",
    "IPython.notebook.kernel.execute(command);"
   ]
  },
  {
   "cell_type": "code",
   "execution_count": 36,
   "metadata": {},
   "outputs": [
    {
     "name": "stdout",
     "output_type": "stream",
     "text": [
      "this_could_be_any_javascript_string\n"
     ]
    }
   ],
   "source": [
    "print(fromJavaScript)"
   ]
  },
  {
   "cell_type": "code",
   "execution_count": 43,
   "metadata": {},
   "outputs": [
    {
     "data": {
      "application/javascript": [
       "(function(element) {\n",
       "    require(['d3'], function(d3) {   \n",
       "        var data = [1, 2, 4, 8, 16, 8, 4, 2, 1]\n",
       "\n",
       "        var svg = d3.select(element.get(0)).append('svg')\n",
       "            .attr('width', 400)\n",
       "            .attr('height', 200);\n",
       "        svg.selectAll('circle')\n",
       "            .data(data)\n",
       "            .enter()\n",
       "            .append('circle')\n",
       "            .attr(\"cx\", function(d, i) {return 40 * (i + 1);})\n",
       "            .attr(\"cy\", function(d, i) {return 100 + 30 * (i % 3 - 1);})\n",
       "            .style(\"fill\", \"#1570a4\")\n",
       "            .transition().duration(2000)\n",
       "            .attr(\"r\", function(d) {return 2*d;})\n",
       "        ;\n",
       "    })\n",
       "})(element);\n"
      ],
      "text/plain": [
       "<IPython.core.display.Javascript object>"
      ]
     },
     "metadata": {},
     "output_type": "display_data"
    }
   ],
   "source": [
    "%%javascript\n",
    "(function(element) {\n",
    "    require(['d3'], function(d3) {   \n",
    "        var data = [1, 2, 4, 8, 16, 8, 4, 2, 1]\n",
    "\n",
    "        var svg = d3.select(element.get(0)).append('svg')\n",
    "            .attr('width', 400)\n",
    "            .attr('height', 200);\n",
    "        svg.selectAll('circle')\n",
    "            .data(data)\n",
    "            .enter()\n",
    "            .append('circle')\n",
    "            .attr(\"cx\", function(d, i) {return 40 * (i + 1);})\n",
    "            .attr(\"cy\", function(d, i) {return 100 + 30 * (i % 3 - 1);})\n",
    "            .style(\"fill\", \"#1570a4\")\n",
    "            .transition().duration(2000)\n",
    "            .attr(\"r\", function(d) {return 2*d;})\n",
    "        ;\n",
    "    })\n",
    "})(element);"
   ]
  },
  {
   "cell_type": "code",
   "execution_count": 50,
   "metadata": {},
   "outputs": [],
   "source": [
    "from IPython.display import Javascript\n",
    "from IPython.core.display import display, HTML\n",
    "from string import Template\n",
    "import pandas as pd\n",
    "import json, random\n",
    "\n",
    "class d3plot:\n",
    "    def __init__(self):\n",
    "        display(Javascript(\"require.config({paths: {d3: 'https://d3js.org/d3.v5.min'}});\"))\n",
    "        display(Javascript(filename=\"d3plots.js\"))\n",
    "        display(HTML(filename=\"viz.css.html\"))\n",
    "        \n",
    "    def draw_circles(self, data, width = 600, height = 400):\n",
    "        display(Javascript(\"\"\"\n",
    "        (function(element){\n",
    "            require(['circles'], function(circles) {\n",
    "                circles(element.get(0), %s, %d, %d);\n",
    "            });\n",
    "        })(element);\n",
    "    \"\"\" % (json.dumps(data), width, height)))\n",
    "        \n",
    "    \n",
    "    def bar_plot(self, data, width = 600, height = 400):\n",
    "         display(Javascript(\"\"\"\n",
    "            (function(element){\n",
    "                require(['bar_plot'], function(bar_plot) {\n",
    "                    bar_plot(element.get(0), %s);\n",
    "                });\n",
    "            })(element);\n",
    "        \"\"\" % (json.dumps(data.to_dict(orient='records')))))\n",
    "    \n",
    "    def line_plot(self, data, width = 600, height = 400):\n",
    "         display(Javascript(\"\"\"\n",
    "            (function(element){\n",
    "                require(['line_plot'], function(line_plot) {\n",
    "                    line_plot(element.get(0), %s);\n",
    "                });\n",
    "            })(element);\n",
    "        \"\"\" % (json.dumps(data.to_dict(orient='records')))))\n",
    "    "
   ]
  },
  {
   "cell_type": "code",
   "execution_count": 51,
   "metadata": {},
   "outputs": [
    {
     "data": {
      "application/javascript": [
       "require.config({paths: {d3: 'https://d3js.org/d3.v5.min'}});"
      ],
      "text/plain": [
       "<IPython.core.display.Javascript object>"
      ]
     },
     "metadata": {},
     "output_type": "display_data"
    },
    {
     "data": {
      "application/javascript": [
       "require.undef('d3plots');\n",
       "\n",
       "define('circles', ['d3'], function (d3) {\n",
       "\n",
       "    function draw(container, data, width, height) {\n",
       "        width = width || 600;\n",
       "        height = height || 200;\n",
       "        var svg = d3.select(container).append(\"svg\")\n",
       "            .attr('width', width)\n",
       "            .attr('height', height)\n",
       "            .append(\"g\");\n",
       "\n",
       "        var x = d3.scaleLinear()\n",
       "            .domain([0, data.length - 1])\n",
       "            .range([50, width - 50]);\n",
       "\n",
       "        var circles = svg.selectAll('circle').data(data);\n",
       "\n",
       "        circles.enter()\n",
       "            .append('circle')\n",
       "            .attr(\"cx\", function (d, i) {return x(i);})\n",
       "            .attr(\"cy\", height / 2)\n",
       "            .attr(\"r\", 20)\n",
       "            .style(\"fill\", \"#1f77b4\")\n",
       "            .style(\"opacity\", 0.7)\n",
       "            .on('mouseover', function() {\n",
       "                d3.select(this)\n",
       "                  .interrupt('fade')\n",
       "                  .style('fill', '#ff850e')\n",
       "                  .style(\"opacity\", 1)\n",
       "                  .attr(\"r\", function (d) {return 1.1 * d + 10;});\n",
       "            })\n",
       "            .on('mouseout', function() {\n",
       "                d3.select(this)\n",
       "                    .transition('fade').duration(500)\n",
       "                    .style(\"fill\", \"#1f77b4\")\n",
       "                    .style(\"opacity\", 0.7)\n",
       "                    .attr(\"r\", function (d) {return d;});\n",
       "            })\n",
       "            .transition().duration(2000)\n",
       "            .attr(\"r\", function (d) {return d;});\n",
       "    }\n",
       "\n",
       "    return draw;\n",
       "});\n",
       "\n",
       "define('bar_plot', ['d3'], function (d3) {\n",
       "    function draw(container, data) {\n",
       "        var margin = {top: 20, right: 20, bottom: 30, left: 40},\n",
       "\t\t\twidth = 500 - margin.left - margin.right,\n",
       "\t\t\theight = 300 - margin.top - margin.bottom;\n",
       "\n",
       "\t\tvar x = d3.scaleBand()\t\n",
       "\t\t\t.rangeRound([0, width])\n",
       "\t\t\t.padding(0.1);\n",
       "\n",
       "\t\tvar y = d3.scaleLinear()\n",
       "\t\t\t.range([height, 0]);\n",
       "\n",
       "\t\tvar xAxis = d3.axisBottom(x);\n",
       "\n",
       "\t\tvar yAxis = d3.axisLeft(y);\n",
       "\n",
       "\t\tvar svg = d3.select(container).append(\"svg\")\n",
       "\t\t\t.attr(\"width\", width + margin.left + margin.right)\n",
       "\t\t\t.attr(\"height\", height + margin.top + margin.bottom)\n",
       "\t\t  .append(\"g\")\n",
       "\t\t\t.attr(\"transform\", \"translate(\" + margin.left + \",\" + margin.top + \")\");\n",
       "\n",
       "\t\t  x.domain(data.map(function(d) { return d.letter; }));\n",
       "\t\t  y.domain([0, d3.max(data, function(d) { return d.y; })]);\n",
       "\n",
       "\t\t  svg.append(\"g\")\n",
       "\t\t\t  .attr(\"class\", \"x axis\")\n",
       "\t\t\t  .attr(\"transform\", \"translate(0,\" + height + \")\")\n",
       "\t\t\t  .call(xAxis);\n",
       "\n",
       "\t\t  svg.append(\"g\")\n",
       "\t\t\t  .attr(\"class\", \"y axis\")\n",
       "\t\t\t  .call(yAxis);\n",
       "\n",
       "\t\t  svg.selectAll(\".bar\")\n",
       "\t\t\t  .data(data)\n",
       "\t\t\t.enter().append(\"rect\")\n",
       "\t\t\t  .attr(\"class\", \"bar\")\n",
       "\t\t\t  .attr(\"x\", function(d) { return x(d.letter); })\n",
       "\t\t\t  .attr(\"width\", x.rangeBand())\n",
       "\t\t\t  .attr(\"y\", function(d) { return y(d.y); })\n",
       "\t\t\t  .attr(\"height\", function(d) { return height - y(d.y); });\n",
       "    }\n",
       "    return draw;\n",
       "});\n",
       "\n",
       "\n",
       "define('line_plot', ['d3'], function (d3) {\n",
       "    function draw(container, new_data) {\n",
       "\t\tdata = Object.assign((d3.csvParse(await FileAttachment(\"aapl.csv\").text(), d3.autoType)).map(({date, close}) => ({date, value: close})), {y: \"$ Close\"})\n",
       "\t\tline = d3.line()\n",
       "\t\t\t.defined(d => !isNaN(d.value))\n",
       "\t\t\t.x(d => x(d.date))\n",
       "\t\t\t.y(d => y(d.value));\n",
       "\t\t\t\n",
       "\t\tx = d3.scaleUtc()\n",
       "\t\t\t.domain(d3.extent(data, d => d.date))\n",
       "\t\t\t.range([margin.left, width - margin.right]);\n",
       "\n",
       "\t\ty = d3.scaleLinear()\n",
       "\t\t\t.domain([0, d3.max(data, d => d.value)]).nice()\n",
       "\t\t\t.range([height - margin.bottom, margin.top]);\n",
       "\t\t\t\n",
       "\t\txAxis = g => g\n",
       "\t\t\t.attr(\"transform\", `translate(0,${height - margin.bottom})`)\n",
       "\t\t\t.call(d3.axisBottom(x).ticks(width / 80).tickSizeOuter(0));\n",
       "\t\t\t\n",
       "\t\tyAxis = g => g\n",
       "\t\t\t.attr(\"transform\", `translate(${margin.left},0)`)\n",
       "\t\t\t.call(d3.axisLeft(y))\n",
       "\t\t\t.call(g => g.select(\".domain\").remove())\n",
       "\t\t\t.call(g => g.select(\".tick:last-of-type text\").clone()\n",
       "\t\t\t\t.attr(\"x\", 3)\n",
       "\t\t\t\t.attr(\"text-anchor\", \"start\")\n",
       "\t\t\t\t.attr(\"font-weight\", \"bold\")\n",
       "\t\t\t\t.text(data.y));\n",
       "\t\t\t\t\n",
       "\t\tmargin = ({top: 20, right: 30, bottom: 30, left: 40});\n",
       "\t\t\t  \n",
       "\t\tvar svg = d3.select(container).append(\"svg\")\n",
       "\t\t\t\t\t.attr('width', width)\n",
       "\t\t\t\t\t.attr('height', height)\n",
       "\n",
       "\t\tsvg.append(\"g\")\n",
       "\t\t  .call(xAxis);\n",
       "\n",
       "\t\tsvg.append(\"g\")\n",
       "\t\t  .call(yAxis);\n",
       "\n",
       "\t\tsvg.append(\"path\")\n",
       "\t\t  .datum(data)\n",
       "\t\t  .attr(\"fill\", \"none\")\n",
       "\t\t  .attr(\"stroke\", \"steelblue\")\n",
       "\t\t  .attr(\"stroke-width\", 1.5)\n",
       "\t\t  .attr(\"stroke-linejoin\", \"round\")\n",
       "\t\t  .attr(\"stroke-linecap\", \"round\")\n",
       "\t\t  .attr(\"d\", line);\n",
       "    }\n",
       "    return draw;\n",
       "});\n",
       "\n",
       "element.append('<small>&#x25C9; &#x25CB; &#x25EF; Loaded D3 Plot Lib.js &#x25CC; &#x25CE; &#x25CF;</small>');"
      ],
      "text/plain": [
       "<IPython.core.display.Javascript object>"
      ]
     },
     "metadata": {},
     "output_type": "display_data"
    },
    {
     "data": {
      "text/html": [
       "<style>\n",
       "    #viz_rect {\n",
       "        fill: blue;\n",
       "    }\n",
       "\tsvg circle {\n",
       "\t  stroke: #16527b;\n",
       "\t  stroke-width: 1px;\n",
       "\t}\n",
       "\t\n",
       "\t.bar {\n",
       "\t  fill: steelblue;\n",
       "\t}\n",
       "\n",
       "\t.bar:hover {\n",
       "\t  fill: brown;\n",
       "\t}\n",
       "\n",
       "\t.axis {\n",
       "\t  font: 10px sans-serif;\n",
       "\t}\n",
       "\n",
       "\t.axis path,\n",
       "\t.axis line {\n",
       "\t  fill: none;\n",
       "\t  stroke: #000;\n",
       "\t  shape-rendering: crispEdges;\n",
       "\t}\n",
       "\n",
       "\t.x.axis path {\n",
       "\t  display: none;\n",
       "\t}\n",
       "\t\n",
       "</style>"
      ],
      "text/plain": [
       "<IPython.core.display.HTML object>"
      ]
     },
     "metadata": {},
     "output_type": "display_data"
    }
   ],
   "source": [
    "d3 = d3plot()"
   ]
  },
  {
   "cell_type": "code",
   "execution_count": 27,
   "metadata": {},
   "outputs": [
    {
     "data": {
      "application/javascript": [
       "\n",
       "        (function(element){\n",
       "            require(['circles'], function(circles) {\n",
       "                circles(element.get(0), [10, 60, 40, 5, 30, 10], 500, 200);\n",
       "            });\n",
       "        })(element);\n",
       "    "
      ],
      "text/plain": [
       "<IPython.core.display.Javascript object>"
      ]
     },
     "metadata": {},
     "output_type": "display_data"
    }
   ],
   "source": [
    "d3.draw_circles([10, 60, 40, 5, 30, 10], width=500, height=200)"
   ]
  },
  {
   "cell_type": "code",
   "execution_count": 29,
   "metadata": {},
   "outputs": [
    {
     "data": {
      "text/html": [
       "<div>\n",
       "<style scoped>\n",
       "    .dataframe tbody tr th:only-of-type {\n",
       "        vertical-align: middle;\n",
       "    }\n",
       "\n",
       "    .dataframe tbody tr th {\n",
       "        vertical-align: top;\n",
       "    }\n",
       "\n",
       "    .dataframe thead th {\n",
       "        text-align: right;\n",
       "    }\n",
       "</style>\n",
       "<table border=\"1\" class=\"dataframe\">\n",
       "  <thead>\n",
       "    <tr style=\"text-align: right;\">\n",
       "      <th></th>\n",
       "      <th>letter</th>\n",
       "      <th>y</th>\n",
       "    </tr>\n",
       "  </thead>\n",
       "  <tbody>\n",
       "    <tr>\n",
       "      <th>0</th>\n",
       "      <td>A</td>\n",
       "      <td>1</td>\n",
       "    </tr>\n",
       "    <tr>\n",
       "      <th>1</th>\n",
       "      <td>B</td>\n",
       "      <td>1</td>\n",
       "    </tr>\n",
       "    <tr>\n",
       "      <th>2</th>\n",
       "      <td>C</td>\n",
       "      <td>1</td>\n",
       "    </tr>\n",
       "    <tr>\n",
       "      <th>3</th>\n",
       "      <td>D</td>\n",
       "      <td>1</td>\n",
       "    </tr>\n",
       "  </tbody>\n",
       "</table>\n",
       "</div>"
      ],
      "text/plain": [
       "  letter  y\n",
       "0      A  1\n",
       "1      B  1\n",
       "2      C  1\n",
       "3      D  1"
      ]
     },
     "execution_count": 29,
     "metadata": {},
     "output_type": "execute_result"
    }
   ],
   "source": [
    "data = pd.DataFrame({'letter': ['A','B','C','D'], 'y': [1,1,1,1]})\n",
    "data.head()\n"
   ]
  },
  {
   "cell_type": "code",
   "execution_count": 30,
   "metadata": {},
   "outputs": [
    {
     "data": {
      "application/javascript": [
       "\n",
       "            (function(element){\n",
       "                require(['bar_plot'], function(bar_plot) {\n",
       "                    bar_plot(element.get(0), [{\"letter\": \"A\", \"y\": 1}, {\"letter\": \"B\", \"y\": 1}, {\"letter\": \"C\", \"y\": 1}, {\"letter\": \"D\", \"y\": 1}]);\n",
       "                });\n",
       "            })(element);\n",
       "        "
      ],
      "text/plain": [
       "<IPython.core.display.Javascript object>"
      ]
     },
     "metadata": {},
     "output_type": "display_data"
    }
   ],
   "source": [
    "d3.bar_plot(data, width=500, height=200)"
   ]
  },
  {
   "cell_type": "code",
   "execution_count": 116,
   "metadata": {},
   "outputs": [
    {
     "data": {
      "text/html": [
       "<div>\n",
       "<style scoped>\n",
       "    .dataframe tbody tr th:only-of-type {\n",
       "        vertical-align: middle;\n",
       "    }\n",
       "\n",
       "    .dataframe tbody tr th {\n",
       "        vertical-align: top;\n",
       "    }\n",
       "\n",
       "    .dataframe thead th {\n",
       "        text-align: right;\n",
       "    }\n",
       "</style>\n",
       "<table border=\"1\" class=\"dataframe\">\n",
       "  <thead>\n",
       "    <tr style=\"text-align: right;\">\n",
       "      <th></th>\n",
       "      <th>letter</th>\n",
       "      <th>y</th>\n",
       "    </tr>\n",
       "  </thead>\n",
       "  <tbody>\n",
       "    <tr>\n",
       "      <th>0</th>\n",
       "      <td>A</td>\n",
       "      <td>1</td>\n",
       "    </tr>\n",
       "    <tr>\n",
       "      <th>1</th>\n",
       "      <td>B</td>\n",
       "      <td>1</td>\n",
       "    </tr>\n",
       "    <tr>\n",
       "      <th>2</th>\n",
       "      <td>C</td>\n",
       "      <td>1</td>\n",
       "    </tr>\n",
       "    <tr>\n",
       "      <th>3</th>\n",
       "      <td>D</td>\n",
       "      <td>1</td>\n",
       "    </tr>\n",
       "  </tbody>\n",
       "</table>\n",
       "</div>"
      ],
      "text/plain": [
       "  letter  y\n",
       "0      A  1\n",
       "1      B  1\n",
       "2      C  1\n",
       "3      D  1"
      ]
     },
     "execution_count": 116,
     "metadata": {},
     "output_type": "execute_result"
    }
   ],
   "source": [
    "data"
   ]
  },
  {
   "cell_type": "code",
   "execution_count": 38,
   "metadata": {},
   "outputs": [
    {
     "data": {
      "text/html": [
       "<div id='variable2' data-fromPython='[{\"letter\": \"A\", \"y\": 1}, {\"letter\": \"B\", \"y\": 1}, {\"letter\": \"C\", \"y\": 1}, {\"letter\": \"D\", \"y\": 1}]' ></div>"
      ],
      "text/plain": [
       "<IPython.core.display.HTML object>"
      ]
     },
     "execution_count": 38,
     "metadata": {},
     "output_type": "execute_result"
    }
   ],
   "source": [
    "variable1 = json.dumps(data.to_dict(orient ='records'))\n",
    "HTML(\"<div id='variable2' data-fromPython='\" + variable1 + \"' ></div>\")"
   ]
  },
  {
   "cell_type": "code",
   "execution_count": 39,
   "metadata": {},
   "outputs": [
    {
     "data": {
      "application/javascript": [
       "var fromPython = document.getElementById('variable2').getAttribute('data-fromPython');\n",
       "element.text(fromPython);\n"
      ],
      "text/plain": [
       "<IPython.core.display.Javascript object>"
      ]
     },
     "metadata": {},
     "output_type": "display_data"
    }
   ],
   "source": [
    "%%javascript\n",
    "var fromPython = document.getElementById('variable2').getAttribute('data-fromPython');\n",
    "element.text(fromPython);"
   ]
  },
  {
   "cell_type": "code",
   "execution_count": null,
   "metadata": {},
   "outputs": [],
   "source": []
  }
 ],
 "metadata": {
  "kernelspec": {
   "display_name": "Python 3",
   "language": "python",
   "name": "python3"
  },
  "language_info": {
   "codemirror_mode": {
    "name": "ipython",
    "version": 3
   },
   "file_extension": ".py",
   "mimetype": "text/x-python",
   "name": "python",
   "nbconvert_exporter": "python",
   "pygments_lexer": "ipython3",
   "version": "3.8.5"
  }
 },
 "nbformat": 4,
 "nbformat_minor": 4
}
