{
  "cells": [
    {
      "cell_type": "markdown",
      "metadata": {
        "id": "4U9KTOaBOrdc"
      },
      "source": [
        "# Playbook of Plots\n",
        "\n",
        "\n",
        "* Countplot\n",
        "* Line\n",
        "* Scatter\n",
        "* Error\n",
        "* Boxplot / Violin\n",
        "* histogram / density\n",
        "* StackedBar\n",
        "* span bar\n",
        "* marimekko\n",
        "* Heatmap\n",
        "* tree plot\n",
        "* word cloud\n",
        "* chord diagram / arc diagram\n",
        "* bubble\n",
        "* parallel coordinates\n",
        "* Correlogram\n",
        "\n",
        "https://github.com/spotify/chartify?utm_source=mybridge&utm_medium=blog&utm_campaign=read_more\n"
      ]
    },
    {
      "cell_type": "code",
      "execution_count": null,
      "metadata": {
        "id": "jDKUc16GOrdf"
      },
      "outputs": [],
      "source": [
        "import pandas as pd\n",
        "import numpy as np\n",
        "import seaborn as sns\n",
        "import matplotlib.pyplot as plt\n",
        "import bokeh\n",
        "import plotly"
      ]
    },
    {
      "cell_type": "code",
      "execution_count": null,
      "metadata": {
        "id": "eQaVQMkKOrdh"
      },
      "outputs": [],
      "source": [
        "df = pd.read_csv('gs://marketprice/renov/bain/sp1/ds/201803_201806/initial/predict_dates_2018-03-01_2018-06-01000000000000.csv')"
      ]
    },
    {
      "cell_type": "code",
      "execution_count": null,
      "metadata": {
        "id": "3Q0-S7jwOrdh",
        "outputId": "64c33425-f602-45e2-ab64-3a89a03793a8"
      },
      "outputs": [
        {
          "data": {
            "text/html": [
              "<div>\n",
              "<style scoped>\n",
              "    .dataframe tbody tr th:only-of-type {\n",
              "        vertical-align: middle;\n",
              "    }\n",
              "\n",
              "    .dataframe tbody tr th {\n",
              "        vertical-align: top;\n",
              "    }\n",
              "\n",
              "    .dataframe thead th {\n",
              "        text-align: right;\n",
              "    }\n",
              "</style>\n",
              "<table border=\"1\" class=\"dataframe\">\n",
              "  <thead>\n",
              "    <tr style=\"text-align: right;\">\n",
              "      <th></th>\n",
              "      <th>IDC_AVAL_RISCO</th>\n",
              "      <th>MUDANCA_RISCO</th>\n",
              "      <th>COD_CLASSE_BONUS</th>\n",
              "      <th>CATEGORIA</th>\n",
              "      <th>F_CAPITAL</th>\n",
              "      <th>REGIONAL</th>\n",
              "      <th>IDC_18_24ANOS_FINAL</th>\n",
              "      <th>COD_REGIAO_POLITICA</th>\n",
              "      <th>COD_TIPO_VEICULO</th>\n",
              "      <th>DSC_ABREV_SEGRA</th>\n",
              "      <th>...</th>\n",
              "      <th>SOMA_PERIODO</th>\n",
              "      <th>RAZAO_C</th>\n",
              "      <th>SP_RENOV</th>\n",
              "      <th>QTD_IDADE_VEICULO</th>\n",
              "      <th>PREM_EMITIDO_ANUAL</th>\n",
              "      <th>SP_INICIAL</th>\n",
              "      <th>QTD_SIN_TOTAL</th>\n",
              "      <th>LMR_CASCO</th>\n",
              "      <th>QTD_PROP</th>\n",
              "      <th>DAT_FIM_VIGENCIA</th>\n",
              "    </tr>\n",
              "  </thead>\n",
              "  <tbody>\n",
              "    <tr>\n",
              "      <td>0</td>\n",
              "      <td>2</td>\n",
              "      <td>00. SEM MUDANCA RISCO</td>\n",
              "      <td>10</td>\n",
              "      <td>10</td>\n",
              "      <td>0</td>\n",
              "      <td>Regional SP INT</td>\n",
              "      <td>01.SIM</td>\n",
              "      <td>320</td>\n",
              "      <td>7</td>\n",
              "      <td>LIBERTY</td>\n",
              "      <td>...</td>\n",
              "      <td>0</td>\n",
              "      <td>0.18</td>\n",
              "      <td>0.6097</td>\n",
              "      <td>6.0</td>\n",
              "      <td>1053.94</td>\n",
              "      <td>0.7195</td>\n",
              "      <td>0</td>\n",
              "      <td>24039.0</td>\n",
              "      <td>1</td>\n",
              "      <td>2018-06-18</td>\n",
              "    </tr>\n",
              "    <tr>\n",
              "      <td>1</td>\n",
              "      <td>2</td>\n",
              "      <td>00. SEM MUDANCA RISCO</td>\n",
              "      <td>9</td>\n",
              "      <td>11</td>\n",
              "      <td>0</td>\n",
              "      <td>Regional SP</td>\n",
              "      <td>02.NAO</td>\n",
              "      <td>376</td>\n",
              "      <td>7</td>\n",
              "      <td>AZUL</td>\n",
              "      <td>...</td>\n",
              "      <td>0</td>\n",
              "      <td>-0.16</td>\n",
              "      <td>0.6442</td>\n",
              "      <td>6.0</td>\n",
              "      <td>2297.79</td>\n",
              "      <td>0.5437</td>\n",
              "      <td>0</td>\n",
              "      <td>33598.0</td>\n",
              "      <td>0</td>\n",
              "      <td>2018-07-26</td>\n",
              "    </tr>\n",
              "    <tr>\n",
              "      <td>2</td>\n",
              "      <td>2</td>\n",
              "      <td>00. SEM MUDANCA RISCO</td>\n",
              "      <td>7</td>\n",
              "      <td>11</td>\n",
              "      <td>1</td>\n",
              "      <td>Regional C/O</td>\n",
              "      <td>01.SIM</td>\n",
              "      <td>78</td>\n",
              "      <td>7</td>\n",
              "      <td>ALFA</td>\n",
              "      <td>...</td>\n",
              "      <td>0</td>\n",
              "      <td>0.26</td>\n",
              "      <td>0.4858</td>\n",
              "      <td>7.0</td>\n",
              "      <td>3227.13</td>\n",
              "      <td>0.6111</td>\n",
              "      <td>1</td>\n",
              "      <td>32846.0</td>\n",
              "      <td>1</td>\n",
              "      <td>2018-03-29</td>\n",
              "    </tr>\n",
              "    <tr>\n",
              "      <td>3</td>\n",
              "      <td>2</td>\n",
              "      <td>00. SEM MUDANCA RISCO</td>\n",
              "      <td>10</td>\n",
              "      <td>11</td>\n",
              "      <td>0</td>\n",
              "      <td>Regional SUL</td>\n",
              "      <td>02.NAO</td>\n",
              "      <td>269</td>\n",
              "      <td>7</td>\n",
              "      <td>AZUL</td>\n",
              "      <td>...</td>\n",
              "      <td>0</td>\n",
              "      <td>0.16</td>\n",
              "      <td>0.7423</td>\n",
              "      <td>7.0</td>\n",
              "      <td>1490.99</td>\n",
              "      <td>0.8615</td>\n",
              "      <td>0</td>\n",
              "      <td>32758.0</td>\n",
              "      <td>1</td>\n",
              "      <td>2018-04-12</td>\n",
              "    </tr>\n",
              "    <tr>\n",
              "      <td>4</td>\n",
              "      <td>2</td>\n",
              "      <td>01. RISCO MAIOR</td>\n",
              "      <td>0</td>\n",
              "      <td>11</td>\n",
              "      <td>0</td>\n",
              "      <td>Regional SUL</td>\n",
              "      <td>02.NAO</td>\n",
              "      <td>187</td>\n",
              "      <td>7</td>\n",
              "      <td>ZZ - SEM SEGRA ANTERIOR</td>\n",
              "      <td>...</td>\n",
              "      <td>0</td>\n",
              "      <td>0.59</td>\n",
              "      <td>0.5507</td>\n",
              "      <td>5.0</td>\n",
              "      <td>3149.64</td>\n",
              "      <td>0.8769</td>\n",
              "      <td>0</td>\n",
              "      <td>45289.0</td>\n",
              "      <td>0</td>\n",
              "      <td>2018-05-08</td>\n",
              "    </tr>\n",
              "  </tbody>\n",
              "</table>\n",
              "<p>5 rows × 36 columns</p>\n",
              "</div>"
            ],
            "text/plain": [
              "   IDC_AVAL_RISCO          MUDANCA_RISCO  COD_CLASSE_BONUS  CATEGORIA  \\\n",
              "0               2  00. SEM MUDANCA RISCO                10         10   \n",
              "1               2  00. SEM MUDANCA RISCO                 9         11   \n",
              "2               2  00. SEM MUDANCA RISCO                 7         11   \n",
              "3               2  00. SEM MUDANCA RISCO                10         11   \n",
              "4               2        01. RISCO MAIOR                 0         11   \n",
              "\n",
              "   F_CAPITAL         REGIONAL IDC_18_24ANOS_FINAL  COD_REGIAO_POLITICA  \\\n",
              "0          0  Regional SP INT              01.SIM                  320   \n",
              "1          0      Regional SP              02.NAO                  376   \n",
              "2          1     Regional C/O              01.SIM                   78   \n",
              "3          0     Regional SUL              02.NAO                  269   \n",
              "4          0     Regional SUL              02.NAO                  187   \n",
              "\n",
              "   COD_TIPO_VEICULO          DSC_ABREV_SEGRA  ...  SOMA_PERIODO RAZAO_C  \\\n",
              "0                 7                  LIBERTY  ...             0    0.18   \n",
              "1                 7                     AZUL  ...             0   -0.16   \n",
              "2                 7                     ALFA  ...             0    0.26   \n",
              "3                 7                     AZUL  ...             0    0.16   \n",
              "4                 7  ZZ - SEM SEGRA ANTERIOR  ...             0    0.59   \n",
              "\n",
              "   SP_RENOV  QTD_IDADE_VEICULO PREM_EMITIDO_ANUAL  SP_INICIAL QTD_SIN_TOTAL  \\\n",
              "0    0.6097                6.0            1053.94      0.7195             0   \n",
              "1    0.6442                6.0            2297.79      0.5437             0   \n",
              "2    0.4858                7.0            3227.13      0.6111             1   \n",
              "3    0.7423                7.0            1490.99      0.8615             0   \n",
              "4    0.5507                5.0            3149.64      0.8769             0   \n",
              "\n",
              "   LMR_CASCO  QTD_PROP DAT_FIM_VIGENCIA  \n",
              "0    24039.0         1       2018-06-18  \n",
              "1    33598.0         0       2018-07-26  \n",
              "2    32846.0         1       2018-03-29  \n",
              "3    32758.0         1       2018-04-12  \n",
              "4    45289.0         0       2018-05-08  \n",
              "\n",
              "[5 rows x 36 columns]"
            ]
          },
          "execution_count": 3,
          "metadata": {},
          "output_type": "execute_result"
        }
      ],
      "source": [
        "df.head()"
      ]
    },
    {
      "cell_type": "markdown",
      "metadata": {
        "id": "Ios3A50COrdj"
      },
      "source": [
        "### Countplot"
      ]
    },
    {
      "cell_type": "code",
      "execution_count": null,
      "metadata": {
        "id": "XJeJQKBhOrdj",
        "outputId": "fa4d6915-e266-409d-e916-1dd2aa4814dc"
      },
      "outputs": [
        {
          "data": {
            "image/png": "[encoded data removed]",
            "text/plain": [
              "<Figure size 864x576 with 1 Axes>"
            ]
          },
          "metadata": {
            "needs_background": "light"
          },
          "output_type": "display_data"
        }
      ],
      "source": [
        "plt.rcParams['figure.figsize'] = (12, 8)\n",
        "\n",
        "ax = plt.subplot(111)\n",
        "ax.spines[\"top\"].set_visible(False)\n",
        "ax.spines[\"right\"].set_visible(False)\n",
        "\n",
        "sns.countplot('MUDANCA_RISCO', data=df, palette = sns.color_palette('GnBu_d'))\n",
        "plt.xlabel('MUDANÇA DE RISCO', size = 12)\n",
        "plt.ylabel('Count', size = 12)\n",
        "a = plt.title('COUNT PLOT')"
      ]
    },
    {
      "cell_type": "markdown",
      "metadata": {
        "id": "PUpsZYzrOrdj"
      },
      "source": [
        "### Distplot"
      ]
    },
    {
      "cell_type": "code",
      "execution_count": null,
      "metadata": {
        "id": "WxdnmPmrOrdk"
      },
      "outputs": [],
      "source": [
        "sns.distplot(data['Annual Income (k$)'])"
      ]
    },
    {
      "cell_type": "code",
      "source": [
        "import pandas as pd\n",
        "import numpy as np\n",
        "import os\n",
        "import matplotlib.pyplot as plt\n",
        "import matplotlib.dates as mdates\n",
        "import matplotlib.ticker as mtick\n",
        "\n",
        "df = pd.DataFrame([['Clothing', 0.1],\n",
        "                   ['Home Decor', 0.43],\n",
        "                   ['Electronics', 0.13],\n",
        "                   ['Stationery', 0.2],\n",
        "                   ['Toys', 0.14]], columns = ['Spend_Category', 'Profit_Margin'])\n",
        "\n",
        "def percent_formatter(x, pos):\n",
        "    return f\"{x*100:.0f}%\"\n",
        "\n",
        "df = df.sort_values(\"Profit_Margin\", ascending=True, ignore_index = True)\n",
        "\n",
        "# Define figure\n",
        "fig,ax = plt.subplots(figsize = (10,6))\n",
        "\n",
        "# add title to plot\n",
        "title = 'Profit Margin for top five spend categories'\n",
        "plt.text(s=title,                      # the text to be displayed\n",
        "         x = 0,y = 0.91,               # the position of the text (x, y)\n",
        "         fontname = 'Times New Roman', # the font to be used for the text\n",
        "         fontweight = \"bold\",          # the weight of the font (e.g. bold)\n",
        "         fontsize = 22,                # the size of the font\n",
        "         ha='left',                    # horizontal alignment of the text ('left', 'center', 'right')\n",
        "         transform = fig.transFigure   # the coordinate system to use for positioning the text\n",
        ")\n",
        "\n",
        "# add subtitle to plot\n",
        "subtitle = 'Consumers are willing to pay higher prices for decorative items for their home.'\n",
        "plt.text(s=subtitle,                   # the text to be displayed\n",
        "         x = 0, y = 0.85,              # the position of the text (x, y)\n",
        "         fontname = 'Times New Roman', # the font to be used for the text\n",
        "         fontsize = 18,                # the size of the font\n",
        "         ha = 'left',                  # horizontal alignment of the text ('left', 'center', 'right')\n",
        "         transform = fig.transFigure   # the coordinate system to use for positioning the text\n",
        ")\n",
        "\n",
        "# Create bar plot\n",
        "bars = plt.barh(df['Spend_Category'],\n",
        "                df['Profit_Margin'],\n",
        "                color = ['lightgray', 'lightgray', 'lightgray', 'lightgray', \"black\"], # color for bars\n",
        "                edgecolor='none')\n",
        "\n",
        "# add margin\n",
        "plt.margins(y=0.14)\n",
        "\n",
        "# remove plot borders\n",
        "ax.spines['top'].set_visible(False)\n",
        "ax.spines['right'].set_visible(False)\n",
        "ax.spines['bottom'].set_visible(False)\n",
        "ax.spines['left'].set_visible(False)\n",
        "\n",
        "\n",
        "# remove xlabels\n",
        "ax.set_xticklabels([])\n",
        "ax.set_xticks([])\n",
        "\n",
        "# position and format ylabels\n",
        "ax.tick_params(axis='y', left=False)\n",
        "plt.yticks(fontsize=14, fontweight='bold')\n",
        "\n",
        "plt.bar_label(\n",
        "    bars,                                          # the bars object to add labels to\n",
        "    labels=[f'{x:.0%}' for x in bars.datavalues],  # the list of labels to display on each bar\n",
        "    padding=12,                                    # padding between the bar and the label\n",
        "    fontsize=15                                    # font size of the labels\n",
        ")\n",
        "\n",
        "# add line\n",
        "ax.plot(\n",
        "    [-0.025, .94],                # X-coordinates of the ends of the line\n",
        "    [.8335, .8335],               # Y-coordinates of the ends of the line\n",
        "    transform = fig.transFigure,  # Coordinate system for the line\n",
        "    clip_on = False,              # Whether to clip the line to the axes bounds\n",
        "    color = 'tab:blue',           # Color of the line\n",
        "    linewidth = 3                 # Width of the line\n",
        ")\n",
        "\n",
        "\n",
        "# add rectangle\n",
        "ax.add_patch(\n",
        "    plt.Rectangle(\n",
        "        (-0.03,.95),                   # (x, y) location of the bottom-left corner of the rectangle\n",
        "        0.015,                         # width of the rectangle\n",
        "        -0.12,                         # height of the rectangle\n",
        "        facecolor = 'tab:blue',        # fill color of the rectangle\n",
        "        transform = fig.transFigure,   # coordinate system used for the rectangle\n",
        "        clip_on = False,               # whether the rectangle is drawn outside the plot area\n",
        "        linewidth = 0                  # width of the edge line of the rectangle\n",
        "    )\n",
        ")\n",
        "\n",
        "# add footnote\n",
        "footnote = \"*Data from Jan-2022 to Mar-2023\"\n",
        "plt.text(s = footnote,\n",
        "         x = 0,\n",
        "         y = 0.13,\n",
        "         fontname = 'Arial',\n",
        "         fontstyle = 'italic',\n",
        "         fontsize = 15,\n",
        "         ha = 'left',\n",
        "         transform = fig.transFigure\n",
        ");"
      ],
      "metadata": {
        "id": "5ATBOkdsO-fs",
        "outputId": "524725b0-23b9-4555-92ad-b3c30d1748f9",
        "colab": {
          "base_uri": "https://localhost:8080/",
          "height": 853
        }
      },
      "execution_count": 1,
      "outputs": [
        {
          "output_type": "stream",
          "name": "stderr",
          "text": [
            "WARNING:matplotlib.font_manager:findfont: Font family 'Times New Roman' not found.\n",
            "WARNING:matplotlib.font_manager:findfont: Font family 'Times New Roman' not found.\n",
            "WARNING:matplotlib.font_manager:findfont: Font family 'Times New Roman' not found.\n",
            "WARNING:matplotlib.font_manager:findfont: Font family 'Times New Roman' not found.\n",
            "WARNING:matplotlib.font_manager:findfont: Font family 'Times New Roman' not found.\n",
            "WARNING:matplotlib.font_manager:findfont: Font family 'Times New Roman' not found.\n",
            "WARNING:matplotlib.font_manager:findfont: Font family 'Arial' not found.\n",
            "WARNING:matplotlib.font_manager:findfont: Font family 'Arial' not found.\n",
            "WARNING:matplotlib.font_manager:findfont: Font family 'Arial' not found.\n",
            "WARNING:matplotlib.font_manager:findfont: Font family 'Times New Roman' not found.\n",
            "WARNING:matplotlib.font_manager:findfont: Font family 'Times New Roman' not found.\n",
            "WARNING:matplotlib.font_manager:findfont: Font family 'Times New Roman' not found.\n",
            "WARNING:matplotlib.font_manager:findfont: Font family 'Times New Roman' not found.\n",
            "WARNING:matplotlib.font_manager:findfont: Font family 'Times New Roman' not found.\n",
            "WARNING:matplotlib.font_manager:findfont: Font family 'Times New Roman' not found.\n",
            "WARNING:matplotlib.font_manager:findfont: Font family 'Arial' not found.\n",
            "WARNING:matplotlib.font_manager:findfont: Font family 'Arial' not found.\n",
            "WARNING:matplotlib.font_manager:findfont: Font family 'Arial' not found.\n"
          ]
        },
        {
          "output_type": "display_data",
          "data": {
            "text/plain": [
              "<Figure size 1000x600 with 1 Axes>"
            ],
            "image/png": "[encoded data removed]"
          },
          "metadata": {}
        }
      ]
    },
    {
      "cell_type": "markdown",
      "metadata": {
        "id": "gZYCiFpaOrdk"
      },
      "source": [
        "### Mekko Chart"
      ]
    },
    {
      "cell_type": "code",
      "execution_count": null,
      "metadata": {
        "id": "_GoBqEJbOrdk"
      },
      "outputs": [],
      "source": [
        "# -*- coding: utf-8 -*-\n",
        "\n",
        "# -----------------------------------------------------------------------------------------------\n",
        "# LIBRARIES\n",
        "# -----------------------------------------------------------------------------------------------\n",
        "\n",
        "import numpy as np\n",
        "import matplotlib.pyplot as plt\n",
        "import pandas as pd\n",
        "import colorsys\n",
        "from math import floor\n",
        "from matplotlib import rcParams\n",
        "from pylab import *\n",
        "import fractions\n",
        "\n",
        "# -----------------------------------------------------------------------------------------------\n",
        "# FUNCTIONS\n",
        "# colormaps here -> http://matplotlib.org/examples/color/colormaps_reference.html )\n",
        "# -----------------------------------------------------------------------------------------------\n",
        "\n",
        "\n",
        "def floored_percentage(val, digits):\n",
        "    val *= 10 ** (digits + 2)\n",
        "    return '{1:.{0}f}%'.format(digits, floor(val) / 10 ** digits)\n",
        "\n",
        "\n",
        "def ColourList(num_colors):\n",
        "    cm = get_cmap('Blues') # change the value in quotes to the desired color map\n",
        "    clist = [cm(1.*i/num_colors) for i in range(num_colors)]\n",
        "\n",
        "    # # Test\n",
        "    # for i in range(num_colors):\n",
        "    #     print 1.*i/num_colors\n",
        "\n",
        "    return clist\n",
        "\n",
        "\n",
        "def mekko (data, level1, level2, kpi, kpiColor):\n",
        "\n",
        "\n",
        "    # 1. Get the color shading\n",
        "    dfColor = data[[level1, level2, kpiColor]] # Eliminate unnecessary columns if any\n",
        "\n",
        "    dfColor = dfColor.fillna(0) # Fill blanks with zeroes\n",
        "\n",
        "    dfColor = dfColor.convert_objects(convert_numeric=True) # Convert to numeric, because the data is stored as something else\n",
        "\n",
        "    dfColor[[kpiColor]] = dfColor[[kpiColor]].astype(int) # Convert floats to integers, necessary to get the color map\n",
        "\n",
        "    # # TEST\n",
        "    # print dfColor.dtypes\n",
        "\n",
        "    ncolors = int(dfColor[kpiColor].max() - dfColor[kpiColor].min()) #get the number of colours\n",
        "\n",
        "    maxColor = dfColor[kpiColor].max() # Maximum value of the colour kpi, will be used later\n",
        "\n",
        "    # # TEST\n",
        "    # print dfColor[kpiColor].max(), dfColor[kpiColor].min(), ncolors\n",
        "\n",
        "    valList = dfColor[kpiColor].values.tolist() # Store as list\n",
        "\n",
        "    if 0 in valList:\n",
        "        colorlist = ColourList(ncolors+1)\n",
        "\n",
        "    else:\n",
        "        colorlist = ColourList(ncolors+2)\n",
        "        valList.append(0) # zero needs to be there\n",
        "\n",
        "    valList.sort() # Sort the list, so the zero is in the right place\n",
        "\n",
        "    # # TEST\n",
        "    # print len(valList) == len(colorlist), len(valList), len(colorlist)\n",
        "\n",
        "    #colReference = range(dfColor[kpiColor].min(), (dfColor[kpiColor].max()+1)) # Get the range of all possible values associated to colours\n",
        "    colReference = list(range(dfColor[kpiColor].min(), (dfColor[kpiColor].max()+1))) # Get the range of all possible values associated to colours\n",
        "\n",
        "    if 0 not in colReference:\n",
        "        colReference.append(0)\n",
        "    colReference.sort()\n",
        "\n",
        "    # # TEST\n",
        "    #print len(colReference) == len(colorlist)\n",
        "\n",
        "    referenceDict = dict(zip(colReference, colorlist))\n",
        "\n",
        "    dfColor = dfColor.pivot(index=level1, columns=level2, values=kpiColor) #.reset_index()\n",
        "\n",
        "    dfColor =dfColor.fillna(0)\n",
        "\n",
        "    dfColor = dfColor.applymap(lambda x: referenceDict[x])\n",
        "\n",
        "    df = data[[level1, level2, kpi]]\n",
        "\n",
        "    df.loc[:, kpi] = df.loc[:,kpi].convert_objects(convert_numeric=True)\n",
        "\n",
        "    # # TEST\n",
        "    # print df.dtypes\n",
        "\n",
        "    total = sum(df[kpi])\n",
        "\n",
        "    dfCat = df[[level1, kpi]]\n",
        "\n",
        "    dfCat = dfCat.groupby([level1]).sum()\n",
        "\n",
        "    dfCatTotals = dfCat\n",
        "\n",
        "    dfCat = dfCat.applymap(lambda x: (x/total))\n",
        "\n",
        "    dfCat = dfCat.rename(columns = {kpi: \"Width\"})\n",
        "\n",
        "    dfCat = dfCat.reset_index()\n",
        "\n",
        "    widths = dfCat['Width'].tolist()\n",
        "\n",
        "    df = df.pivot(index=level1, columns=level2, values=kpi) #.reset_index()\n",
        "\n",
        "    df = df.fillna(0)\n",
        "\n",
        "    df = df.apply(lambda x : x / x.sum(), axis=1)\n",
        "\n",
        "    pos = [0]\n",
        "    cumulative = 0\n",
        "\n",
        "    for i in widths[:-1]:\n",
        "        cumulative += i\n",
        "        pos.append(cumulative)\n",
        "\n",
        "    counter = 0\n",
        "\n",
        "    xticks = []\n",
        "\n",
        "    bottoms = [0 for i in range(len(dfCat[level1]))]\n",
        "\n",
        "    fig, axes = plt.subplots()\n",
        "\n",
        "    # Change title as desired; use the version above if you don't have python3\n",
        "    # plt.title(kpi+\" (tot. \"+\"{0:,.2f}\".format(float(dfCatTotals.sum()))+(\"€\").decode('utf-8')+\"), darkest shading = max \"+kpiColor+\" (\"+\"{0:,.2f}\".format(float(maxColor))+\")\", y = 1.02, size = \"medium\")\n",
        "    plt.title(kpi+\" (tot. \"+\"{0:,.2f}\".format(float(dfCatTotals.sum()))+(\"€\")+\"), darkest shading = max \"+kpiColor+\" (\"+\"{0:,.2f}\".format(float(maxColor))+\")\", y = 1.02, size = \"medium\")\n",
        "\n",
        "    axes.get_yaxis().set_visible(False)\n",
        "    axes.set_ylim([0,1])\n",
        "\n",
        "    axes.set_xlim([0,sum(widths)])\n",
        "\n",
        "    fig.set_size_inches(20,10)\n",
        "    plt.subplots_adjust(bottom=0.15, top = 0.95)\n",
        "\n",
        "    for pl in range(len(df.columns)):\n",
        "\n",
        "        for cat in range(len(dfCat[level1])):\n",
        "\n",
        "            position = pos[cat]\n",
        "            width = widths[cat]\n",
        "            height = df.iat[cat, pl]\n",
        "            bottom = bottoms[cat]\n",
        "            color = dfColor.iat[cat,pl]\n",
        "\n",
        "            # if cat == 1:\n",
        "            #     print width, height\n",
        "\n",
        "            xticks.append(position + width/2)\n",
        "\n",
        "            plt.bar(left = position, height = height, width = width, bottom = bottom, color = color)\n",
        "\n",
        "            if height > 0.05 and width > 0.05:\n",
        "                textsize =  'medium'\n",
        "            else:\n",
        "                textsize = \"x-small\"\n",
        "\n",
        "            if height > 0.01 and width > 0.01:\n",
        "                plt.text(position + width/2, bottom + height/2, df.columns[pl]+\"\\n\"+ floored_percentage(height, 0), ha='center', size = textsize, va = \"center\")\n",
        "\n",
        "            bottoms[cat] += height\n",
        "\n",
        "    # Change if necessary; use version above if you don't have python3\n",
        "    # plt.xticks(xticks, [str.split(u)[0].decode('utf-8')+\" - \"+\"{0:,.2f}\".format(float(dfCatTotals.loc[u]))+(\"€\").decode('utf-8') for u in dfCat[level1].tolist()], rotation='vertical', size = \"x-small\")\n",
        "    plt.xticks(xticks, [str.split(u)[0]+\" - \"+\"{0:,.2f}\".format(float(dfCatTotals.loc[u]))+(\"€\") for u in dfCat[level1].tolist()], rotation='vertical', size = \"x-small\")\n",
        "\n",
        "    fig.savefig(kpi+\".png\", dpi = 100)\n",
        "\n",
        "    # plt.show()\n",
        "\n",
        "    plt.clf()\n",
        "\n"
      ]
    },
    {
      "cell_type": "code",
      "execution_count": null,
      "metadata": {
        "id": "XCpKFXOsOrdm"
      },
      "outputs": [],
      "source": [
        "import mekko\n",
        "import pandas as pd\n",
        "\n",
        "# -----------------------------------------------------------------------------------------------\n",
        "# GET THE DATA\n",
        "# Data needs to have this structure: First row label| Second row label |some columns of kpis to plot, choose one at a time|a column for the colour kpi\n",
        "# -----------------------------------------------------------------------------------------------\n",
        "\n",
        "data = pd.io.parsers.read_csv(\"data.csv\", dtype = object) # insert file path\n",
        "\n",
        "# -----------------------------------------------------------------------------------------------\n",
        "# SET THE VARIABLES\n",
        "# Make sure that the variables correspond to the right column names\n",
        "# -----------------------------------------------------------------------------------------------\n",
        "\n",
        "level1 = \"Ice cream type\"\n",
        "level2 = \"Flavour\"\n",
        "\n",
        "kpi = \"Revenues\" #Insert the kpi (column title) corresponding to the height of the boxes\n",
        "\n",
        "kpiColor = \"Quantity sold\" # Insert the kpi (column title) corresponding to the colour shading\n",
        "\n",
        "\n",
        "# -----------------------------------------------------------------------------------------------\n",
        "# EXECUTE\n",
        "# -----------------------------------------------------------------------------------------------\n",
        "\n",
        "mekko.mekko(data = data, level1 = level1, level2 = level2, kpi = kpi, kpiColor = kpiColor)"
      ]
    },
    {
      "cell_type": "code",
      "execution_count": null,
      "metadata": {
        "id": "jCOT3hq2Ordn"
      },
      "outputs": [],
      "source": [
        "import matplotlib"
      ]
    },
    {
      "cell_type": "code",
      "execution_count": null,
      "metadata": {
        "id": "xGBzr6LkOrdn",
        "outputId": "21096e5b-0f07-414a-9807-592de4f77844"
      },
      "outputs": [
        {
          "ename": "AttributeError",
          "evalue": "module 'matplotlib.colors' has no attribute 'DivergingNorm'",
          "output_type": "error",
          "traceback": [
            "\u001b[0;31m---------------------------------------------------------------------------\u001b[0m",
            "\u001b[0;31mAttributeError\u001b[0m                            Traceback (most recent call last)",
            "\u001b[0;32m<ipython-input-3-dd9f733faf93>\u001b[0m in \u001b[0;36m<module>\u001b[0;34m\u001b[0m\n\u001b[0;32m----> 1\u001b[0;31m \u001b[0mmatplotlib\u001b[0m\u001b[0;34m.\u001b[0m\u001b[0mcolors\u001b[0m\u001b[0;34m.\u001b[0m\u001b[0mDivergingNorm\u001b[0m\u001b[0;34m(\u001b[0m\u001b[0;34m)\u001b[0m\u001b[0;34m\u001b[0m\u001b[0m\n\u001b[0m",
            "\u001b[0;31mAttributeError\u001b[0m: module 'matplotlib.colors' has no attribute 'DivergingNorm'"
          ]
        }
      ],
      "source": [
        "matplotlib.colors.DivergingNorm()"
      ]
    },
    {
      "cell_type": "markdown",
      "metadata": {
        "id": "S6afGDyGOrdo"
      },
      "source": [
        "### Word Cloud"
      ]
    },
    {
      "cell_type": "code",
      "execution_count": null,
      "metadata": {
        "id": "l4Frz529Ordo"
      },
      "outputs": [],
      "source": [
        "#________________________________________________________________________\n",
        "def random_color_func(word=None, font_size=None, position=None,\n",
        "                      orientation=None, font_path=None, random_state=None):\n",
        "    h = int(360.0 * tone / 255.0)\n",
        "    s = int(100.0 * 255.0 / 255.0)\n",
        "    l = int(100.0 * float(random_state.randint(70, 120)) / 255.0)\n",
        "    return \"hsl({}, {}%, {}%)\".format(h, s, l)\n",
        "#________________________________________________________________________\n",
        "def make_wordcloud(liste, increment):\n",
        "    ax1 = fig.add_subplot(4,2,increment)\n",
        "    words = dict()\n",
        "    trunc_occurences = liste[0:150]\n",
        "    for s in trunc_occurences:\n",
        "        words[s[0]] = s[1]\n",
        "    #________________________________________________________\n",
        "    wordcloud = WordCloud(width=1000,height=400, background_color='lightgrey',\n",
        "                          max_words=1628,relative_scaling=1,\n",
        "                          color_func = random_color_func,\n",
        "                          normalize_plurals=False)\n",
        "    wordcloud.generate_from_frequencies(words)\n",
        "    ax1.imshow(wordcloud, interpolation=\"bilinear\")\n",
        "    ax1.axis('off')\n",
        "    plt.title('cluster nº{}'.format(increment-1))"
      ]
    },
    {
      "cell_type": "markdown",
      "metadata": {
        "id": "_zouLbh-Ordp"
      },
      "source": [
        "### Radar Chart"
      ]
    },
    {
      "cell_type": "code",
      "execution_count": null,
      "metadata": {
        "id": "nqW1At1KOrdp"
      },
      "outputs": [],
      "source": [
        "def _scale_data(data, ranges):\n",
        "    (x1, x2) = ranges[0]\n",
        "    d = data[0]\n",
        "    return [(d - y1) / (y2 - y1) * (x2 - x1) + x1 for d, (y1, y2) in zip(data, ranges)]\n",
        "\n",
        "class RadarChart():\n",
        "    def __init__(self, fig, location, sizes, variables, ranges, n_ordinate_levels = 6):\n",
        "\n",
        "        angles = np.arange(0, 360, 360./len(variables))\n",
        "\n",
        "        ix, iy = location[:] ; size_x, size_y = sizes[:]\n",
        "\n",
        "        axes = [fig.add_axes([ix, iy, size_x, size_y], polar = True,\n",
        "        label = \"axes{}\".format(i)) for i in range(len(variables))]\n",
        "\n",
        "        _, text = axes[0].set_thetagrids(angles, labels = variables)\n",
        "\n",
        "        for txt, angle in zip(text, angles):\n",
        "            if angle > -1 and angle < 181:\n",
        "                txt.set_rotation(angle - 90)\n",
        "            else:\n",
        "                txt.set_rotation(angle - 270)\n",
        "\n",
        "        for ax in axes[1:]:\n",
        "            ax.patch.set_visible(False)\n",
        "            ax.xaxis.set_visible(False)\n",
        "            ax.grid(\"off\")\n",
        "\n",
        "        for i, ax in enumerate(axes):\n",
        "            grid = np.linspace(*ranges[i],num = n_ordinate_levels)\n",
        "            grid_label = [\"\"]+[\"{:.0f}\".format(x) for x in grid[1:-1]]\n",
        "            ax.set_rgrids(grid, labels = grid_label, angle = angles[i])\n",
        "            ax.set_ylim(*ranges[i])\n",
        "\n",
        "        self.angle = np.deg2rad(np.r_[angles, angles[0]])\n",
        "        self.ranges = ranges\n",
        "        self.ax = axes[0]\n",
        "\n",
        "    def plot(self, data, *args, **kw):\n",
        "        sdata = _scale_data(data, self.ranges)\n",
        "        self.ax.plot(self.angle, np.r_[sdata, sdata[0]], *args, **kw)\n",
        "\n",
        "    def fill(self, data, *args, **kw):\n",
        "        sdata = _scale_data(data, self.ranges)\n",
        "        self.ax.fill(self.angle, np.r_[sdata, sdata[0]], *args, **kw)\n",
        "\n",
        "    def legend(self, *args, **kw):\n",
        "        self.ax.legend(*args, **kw)\n",
        "\n",
        "    def title(self, title, *args, **kw):\n",
        "        self.ax.text(0.9, 1, title, transform = self.ax.transAxes, *args, **kw)\n",
        "\n",
        "\n",
        "fig = plt.figure(figsize=(10,12))\n",
        "\n",
        "attributes = ['count', 'mean', 'sum', 'categ_0', 'categ_1', 'categ_2', 'categ_3', 'categ_4']\n",
        "ranges = [[0.01, 10], [0.01, 1500], [0.01, 10000], [0.01, 75], [0.01, 75], [0.01, 75], [0.01, 75], [0.01, 75]]\n",
        "index  = [0, 1, 2, 3, 4, 5, 6, 7, 8, 9, 10, 11, 12]\n",
        "\n",
        "n_groups = n_clusters ; i_cols = 3\n",
        "i_rows = n_groups//i_cols\n",
        "size_x, size_y = (1/i_cols), (1/i_rows)\n",
        "\n",
        "for ind in range(n_clusters):\n",
        "    ix = ind%3 ; iy = i_rows - ind//3\n",
        "    pos_x = ix*(size_x + 0.05) ; pos_y = iy*(size_y + 0.05)\n",
        "    location = [pos_x, pos_y]  ; sizes = [size_x, size_y]\n",
        "    #______________________________________________________\n",
        "    data = np.array(merged_df.loc[index[ind], attributes])\n",
        "    radar = RadarChart(fig, location, sizes, attributes, ranges)\n",
        "    radar.plot(data, color = 'b', linewidth=2.0)\n",
        "    radar.fill(data, alpha = 0.2, color = 'b')\n",
        "    radar.title(title = 'cluster nº{}'.format(index[ind]), color = 'r')\n",
        "    ind += 1\n",
        ""
      ]
    },
    {
      "cell_type": "markdown",
      "metadata": {
        "id": "D00SuYFwOrdp"
      },
      "source": [
        "### Andrews Chart"
      ]
    },
    {
      "cell_type": "code",
      "execution_count": null,
      "metadata": {
        "id": "iNLxgDSMOrdq"
      },
      "outputs": [],
      "source": [
        "from pandas import plotting\n",
        "\n",
        "plotting.andrews_curves(data.drop(\"CustomerID\", axis=1), \"Gender\")\n",
        "plt.title('Andrew Curves for Gender', fontsize = 20)\n",
        "plt.show()"
      ]
    },
    {
      "cell_type": "markdown",
      "metadata": {
        "id": "ZD9pjlunOrdq"
      },
      "source": [
        "## Plotly\n",
        "\n",
        "Install: https://plot.ly/python/getting-started/#jupyterlab-support-python-35"
      ]
    },
    {
      "cell_type": "code",
      "execution_count": null,
      "metadata": {
        "id": "do3pPQjnOrdq"
      },
      "outputs": [],
      "source": [
        "# import plotly.graph_objects as go\n",
        "# fig = go.Figure(data=go.Bar(y=[2, 3, 1]))\n",
        "# fig.show()"
      ]
    },
    {
      "cell_type": "code",
      "execution_count": null,
      "metadata": {
        "id": "8wp4yNaeOrdq"
      },
      "outputs": [],
      "source": [
        "# for interactive visualizations\n",
        "import plotly.offline as py\n",
        "from plotly.offline import init_notebook_mode, iplot\n",
        "import plotly.graph_objs as go\n",
        "from plotly import tools\n",
        "init_notebook_mode(connected = True)\n",
        "import plotly.figure_factory as ff"
      ]
    },
    {
      "cell_type": "code",
      "execution_count": null,
      "metadata": {
        "id": "YkmC0jKvOrdq"
      },
      "outputs": [],
      "source": [
        "# importing the dataset\n",
        "data = pd.read_csv('../input/Mall_Customers.csv')\n",
        "\n",
        "dat = ff.create_table(data.head())\n",
        "\n",
        "py.iplot(dat)"
      ]
    },
    {
      "cell_type": "code",
      "execution_count": null,
      "metadata": {
        "id": "8R9TbczCOrdq"
      },
      "outputs": [],
      "source": [
        "x = data[['Age', 'Spending Score (1-100)', 'Annual Income (k$)']].values\n",
        "km = KMeans(n_clusters = 5, init = 'k-means++', max_iter = 300, n_init = 10, random_state = 0)\n",
        "km.fit(x)\n",
        "labels = km.labels_\n",
        "centroids = km.cluster_centers_"
      ]
    },
    {
      "cell_type": "code",
      "execution_count": null,
      "metadata": {
        "id": "sbWUsUi7Ordr"
      },
      "outputs": [],
      "source": [
        "data['labels'] =  labels\n",
        "trace1 = go.Scatter3d(\n",
        "    x= data['Age'],\n",
        "    y= data['Spending Score (1-100)'],\n",
        "    z= data['Annual Income (k$)'],\n",
        "    mode='markers',\n",
        "     marker=dict(\n",
        "        color = data['labels'],\n",
        "        size= 10,\n",
        "        line=dict(\n",
        "            color= data['labels'],\n",
        "            width= 12\n",
        "        ),\n",
        "        opacity=0.8\n",
        "     )\n",
        ")\n",
        "df = [trace1]\n",
        "\n",
        "layout = go.Layout(\n",
        "    title = 'Character vs Gender vs Alive or not',\n",
        "    margin=dict(\n",
        "        l=0,\n",
        "        r=0,\n",
        "        b=0,\n",
        "        t=0\n",
        "    ),\n",
        "    scene = dict(\n",
        "            xaxis = dict(title  = 'Age'),\n",
        "            yaxis = dict(title  = 'Spending Score'),\n",
        "            zaxis = dict(title  = 'Annual Income')\n",
        "        )\n",
        ")\n",
        "\n",
        "fig = go.Figure(data = df, layout = layout)\n",
        "py.iplot(fig)"
      ]
    },
    {
      "cell_type": "code",
      "execution_count": null,
      "metadata": {
        "id": "6jeqBFBcOrdr"
      },
      "outputs": [],
      "source": [
        "import plotly.graph_objs as go\n",
        "\n",
        "df1 = mall_customer[mall_customer.Gender == 'Male']\n",
        "df2 = mall_customer[mall_customer.Gender == 'Female']\n",
        "male_age =  df1.Age\n",
        "male_income = df1['Annual Income (k$)']\n",
        "male_score = df1['Spending Score (1-100)']\n",
        "female_age = df2.Age\n",
        "female_income = df2['Annual Income (k$)']\n",
        "female_score = df2['Spending Score (1-100)']\n",
        "\n",
        "trace1 = {\n",
        "  'x' : female_age,\n",
        "  'y' : female_income,\n",
        "  'name' : 'income',\n",
        "  'type' : 'bar'\n",
        "};\n",
        "trace2 = {\n",
        "  'x' : female_age,\n",
        "  'y' : female_score,\n",
        "  'name' : 'score',\n",
        "  'type' : 'bar'\n",
        "};\n",
        "\n",
        "data = [trace1,trace2];\n",
        "layout = {\n",
        "    'xaxis' : {'title':'age'},\n",
        "    'barmode' : 'relative',\n",
        "    'title' : 'skore and income for female customer'\n",
        "}\n",
        "fig = go.Figure(data = data, layout = layout)\n",
        "iplot(fig)"
      ]
    },
    {
      "cell_type": "code",
      "execution_count": null,
      "metadata": {
        "id": "4lvu-0lNOrdr"
      },
      "outputs": [],
      "source": [
        "mall = mall_customer.iloc[:,2:]\n",
        "import plotly.figure_factory as ff\n",
        "mall['index'] = np.arange(1,len(mall)+1)\n",
        "fig = ff.create_scatterplotmatrix(mall, diag ='box', index = 'index' , colormap =['rgb(10, 10, 255)', '#F0963C', 'rgb(51, 255, 153)'],\n",
        "                                 colormap_type = 'seq', height = 700, width = 700)\n",
        "iplot(fig)"
      ]
    },
    {
      "cell_type": "code",
      "source": [],
      "metadata": {
        "id": "R5bAOGlVO7BC"
      },
      "execution_count": null,
      "outputs": []
    },
    {
      "cell_type": "markdown",
      "metadata": {
        "id": "AAxCctOCOrds"
      },
      "source": [
        "## Bokeh"
      ]
    },
    {
      "cell_type": "code",
      "execution_count": null,
      "metadata": {
        "id": "lxS_OY48Ords"
      },
      "outputs": [],
      "source": [
        "## asas"
      ]
    },
    {
      "cell_type": "markdown",
      "metadata": {
        "id": "OknSBzgPOrds"
      },
      "source": [
        "## Facets"
      ]
    },
    {
      "cell_type": "code",
      "execution_count": null,
      "metadata": {
        "id": "hFswdty9Ordt"
      },
      "outputs": [],
      "source": [
        "# asdas"
      ]
    }
  ],
  "metadata": {
    "kernelspec": {
      "display_name": "Python 3",
      "language": "python",
      "name": "python3"
    },
    "language_info": {
      "codemirror_mode": {
        "name": "ipython",
        "version": 3
      },
      "file_extension": ".py",
      "mimetype": "text/x-python",
      "name": "python",
      "nbconvert_exporter": "python",
      "pygments_lexer": "ipython3",
      "version": "3.5.3"
    },
    "colab": {
      "provenance": []
    }
  },
  "nbformat": 4,
  "nbformat_minor": 0
}